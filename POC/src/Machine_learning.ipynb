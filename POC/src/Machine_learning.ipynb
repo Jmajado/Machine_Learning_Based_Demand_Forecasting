{
    "cells": [
        {
            "cell_type": "markdown",
            "metadata": {},
            "source": [
                "# Explore here"
            ]
        },
        {
            "cell_type": "code",
            "execution_count": null,
            "metadata": {},
            "outputs": [],
            "source": [
                "# Librerias necesarias para modelo\n",
                "import pandas as pd\n",
                "import numpy as np\n",
                "from sklearn.metrics import r2_score\n",
                "from sklearn.model_selection import GridSearchCV"
            ]
        },
        {
            "cell_type": "code",
            "execution_count": 21,
            "metadata": {},
            "outputs": [],
            "source": [
                "import os\n",
                "import pandas as pd\n",
                "import numpy as np\n",
                "\n",
                "# Accedemos a cada train y a cada test tanto de X como de Y, y los dejamos metidos en variables para el siguiente paso!! \n",
                "# Los separamos en base path y el resto de la ruta de acceso para tener el código mas legible. \n",
                "current_dir = os.getcwd()\n",
                "BASE_PATH = os.path.join(current_dir, \"../data/csv_model\")\n",
                "TRAIN_PATHS = [\n",
                "    \"X_train_con_outliers.csv\",\n",
                "    \"X_train_sin_outliers.csv\"\n",
                "]\n",
                "\n",
                "# Concatenamos el base path al resto de la ruta de acceso para tener el código completo dentro de la variable que usaremos despues. \n",
                "TRAIN_DATASETS = []\n",
                "for path in TRAIN_PATHS:\n",
                "    TRAIN_DATASETS.append(\n",
                "        # pd.read_excel(BASE_PATH + \"/\" + path)\n",
                "        pd.read_csv(f\"{BASE_PATH}/{path}\") \n",
                "        # pd.read_excel(os.path.join(BASE_PATH, path))\n",
                "    )\n",
                "\n",
                "# Los separamos en base path y el resto de la ruta de acceso para tener el código mas legible. \n",
                "TEST_PATHS = [\n",
                "    \"X_test_con_outliers.csv\",\n",
                "    \"X_test_sin_outliers.csv\"\n",
                "]\n",
                "\n",
                "# Concatenamos el base path al resto de la ruta de acceso para tener el código completo dentro de la variable que usaremos despues. \n",
                "TEST_DATASETS = []\n",
                "for path in TEST_PATHS:\n",
                "    TEST_DATASETS.append(\n",
                "        pd.read_csv(f\"{BASE_PATH}/{path}\")\n",
                "    )\n",
                "\n",
                "# Concatenamos el base path al resto de la ruta de acceso para tener el código completo dentro de la variable que usaremos despues. \n",
                "y_train = pd.read_csv(f\"{BASE_PATH}/y_train.csv\")\n",
                "y_test = pd.read_csv(f\"{BASE_PATH}/y_test.csv\")"
            ]
        },
        {
            "cell_type": "markdown",
            "metadata": {},
            "source": [
                "### Random forest"
            ]
        },
        {
            "cell_type": "code",
            "execution_count": 8,
            "metadata": {},
            "outputs": [
                {
                    "name": "stdout",
                    "output_type": "stream",
                    "text": [
                        "0\n"
                    ]
                },
                {
                    "name": "stderr",
                    "output_type": "stream",
                    "text": [
                        "c:\\Users\\andta\\AppData\\Local\\Programs\\Python\\Python311\\Lib\\site-packages\\sklearn\\base.py:1389: DataConversionWarning: A column-vector y was passed when a 1d array was expected. Please change the shape of y to (n_samples,), for example using ravel().\n",
                        "  return fit_method(estimator, *args, **kwargs)\n"
                    ]
                },
                {
                    "name": "stdout",
                    "output_type": "stream",
                    "text": [
                        "1\n"
                    ]
                },
                {
                    "name": "stderr",
                    "output_type": "stream",
                    "text": [
                        "c:\\Users\\andta\\AppData\\Local\\Programs\\Python\\Python311\\Lib\\site-packages\\sklearn\\base.py:1389: DataConversionWarning: A column-vector y was passed when a 1d array was expected. Please change the shape of y to (n_samples,), for example using ravel().\n",
                        "  return fit_method(estimator, *args, **kwargs)\n"
                    ]
                },
                {
                    "data": {
                        "text/plain": [
                            "[{'train': 0.9999999563252722, 'test': 0.9999997453058176},\n",
                            " {'train': 0.9992056571398283, 'test': 0.9939803252323895}]"
                        ]
                    },
                    "execution_count": 8,
                    "metadata": {},
                    "output_type": "execute_result"
                }
            ],
            "source": [
                "from sklearn.ensemble import RandomForestRegressor\n",
                "from sklearn.metrics import r2_score\n",
                "\n",
                "# Le pasamos los train y los test al modelo , lo entrenamos y metemos los resultados del test en una lista para poder comparar y escoger el mejor. \n",
                "\n",
                "results = []\n",
                "\n",
                "for index, dataset in enumerate(TRAIN_DATASETS):\n",
                "    print(index)\n",
                "    model = RandomForestRegressor(random_state = 77)\n",
                "    \n",
                "    model.fit(dataset, y_train)\n",
                "    y_pred_train = model.predict(dataset)\n",
                "    y_pred_test = model.predict(TEST_DATASETS[index])\n",
                "\n",
                "    results.append(\n",
                "        {\n",
                "            \"train\": r2_score(y_train, y_pred_train),\n",
                "            \"test\": r2_score(y_test, y_pred_test)\n",
                "        }\n",
                "    )\n",
                "\n",
                "results"
            ]
        },
        {
            "cell_type": "markdown",
            "metadata": {},
            "source": [
                "Escogemos el mejor modelo"
            ]
        },
        {
            "cell_type": "code",
            "execution_count": 35,
            "metadata": {},
            "outputs": [
                {
                    "name": "stderr",
                    "output_type": "stream",
                    "text": [
                        "c:\\Users\\andta\\AppData\\Local\\Programs\\Python\\Python311\\Lib\\site-packages\\sklearn\\base.py:1389: DataConversionWarning: A column-vector y was passed when a 1d array was expected. Please change the shape of y to (n_samples,), for example using ravel().\n",
                        "  return fit_method(estimator, *args, **kwargs)\n"
                    ]
                }
            ],
            "source": [
                "best_model = 0\n",
                "model = RandomForestRegressor(random_state = 77)\n",
                "model.fit(TRAIN_DATASETS[best_model], y_train)\n",
                "y_pred_test = model.predict(TEST_DATASETS[best_model])"
            ]
        },
        {
            "cell_type": "markdown",
            "metadata": {},
            "source": [
                "Guardamos el modelo"
            ]
        },
        {
            "cell_type": "code",
            "execution_count": 37,
            "metadata": {},
            "outputs": [],
            "source": [
                "import pickle\n",
                "model_path = os.path.join(current_dir, \"../models/random_forest_POC.sav\") \n",
                "\n",
                "\n",
                "with open(model_path, \"wb\") as file:\n",
                "    pickle.dump(model, file)"
            ]
        }
    ],
    "metadata": {
        "kernelspec": {
            "display_name": "Python 3",
            "language": "python",
            "name": "python3"
        },
        "language_info": {
            "codemirror_mode": {
                "name": "ipython",
                "version": 3
            },
            "file_extension": ".py",
            "mimetype": "text/x-python",
            "name": "python",
            "nbconvert_exporter": "python",
            "pygments_lexer": "ipython3",
            "version": "3.11.9"
        },
        "orig_nbformat": 4
    },
    "nbformat": 4,
    "nbformat_minor": 2
}
