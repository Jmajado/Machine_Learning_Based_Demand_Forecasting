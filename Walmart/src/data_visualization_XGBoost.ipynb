{
 "cells": [
  {
   "cell_type": "markdown",
   "id": "0146fe22",
   "metadata": {},
   "source": [
    "# Análisis descriptivo"
   ]
  },
  {
   "cell_type": "markdown",
   "id": "de0f225f",
   "metadata": {},
   "source": [
    "###  1. Descripción general del dataset"
   ]
  },
  {
   "cell_type": "code",
   "execution_count": 2,
   "id": "f21c1049",
   "metadata": {},
   "outputs": [],
   "source": [
    "import os\n",
    "import pandas as pd\n",
    "import numpy as np\n",
    "pd.set_option('display.max_columns', None)\n",
    "current_dir = os.getcwd()\n",
    "import matplotlib.pyplot as plt\n",
    "import seaborn as sns"
   ]
  },
  {
   "cell_type": "markdown",
   "id": "86487a41",
   "metadata": {},
   "source": [
    "Se carga el dataframe"
   ]
  },
  {
   "cell_type": "code",
   "execution_count": 3,
   "id": "f15c11ec",
   "metadata": {},
   "outputs": [],
   "source": [
    "final_xgboost_data_path = os.path.join(current_dir, \"../data/raw/Final_XGBoost_data_processed.csv\")\n",
    "data = pd.read_csv(final_xgboost_data_path)"
   ]
  },
  {
   "cell_type": "code",
   "execution_count": 4,
   "id": "37f3f2e7",
   "metadata": {},
   "outputs": [
    {
     "data": {
      "text/html": [
       "<div>\n",
       "<style scoped>\n",
       "    .dataframe tbody tr th:only-of-type {\n",
       "        vertical-align: middle;\n",
       "    }\n",
       "\n",
       "    .dataframe tbody tr th {\n",
       "        vertical-align: top;\n",
       "    }\n",
       "\n",
       "    .dataframe thead th {\n",
       "        text-align: right;\n",
       "    }\n",
       "</style>\n",
       "<table border=\"1\" class=\"dataframe\">\n",
       "  <thead>\n",
       "    <tr style=\"text-align: right;\">\n",
       "      <th></th>\n",
       "      <th>item_id</th>\n",
       "      <th>store_id</th>\n",
       "      <th>month</th>\n",
       "      <th>sales</th>\n",
       "      <th>event_name_1</th>\n",
       "      <th>snap_CA</th>\n",
       "      <th>snap_TX</th>\n",
       "      <th>snap_WI</th>\n",
       "      <th>sell_price</th>\n",
       "      <th>snap</th>\n",
       "      <th>lag_1</th>\n",
       "      <th>lag_2</th>\n",
       "      <th>lag_3</th>\n",
       "      <th>lag_6</th>\n",
       "      <th>lag_12</th>\n",
       "      <th>rolling_mean_3</th>\n",
       "      <th>year</th>\n",
       "      <th>month_1</th>\n",
       "      <th>month_2</th>\n",
       "      <th>month_3</th>\n",
       "      <th>month_4</th>\n",
       "      <th>month_5</th>\n",
       "      <th>month_6</th>\n",
       "      <th>month_7</th>\n",
       "      <th>month_8</th>\n",
       "      <th>month_9</th>\n",
       "      <th>month_10</th>\n",
       "      <th>month_11</th>\n",
       "      <th>month_12</th>\n",
       "    </tr>\n",
       "  </thead>\n",
       "  <tbody>\n",
       "    <tr>\n",
       "      <th>0</th>\n",
       "      <td>FOODS_1_012</td>\n",
       "      <td>CA_2</td>\n",
       "      <td>2012-01-01</td>\n",
       "      <td>0</td>\n",
       "      <td>1</td>\n",
       "      <td>1</td>\n",
       "      <td>1</td>\n",
       "      <td>0</td>\n",
       "      <td>6.08000</td>\n",
       "      <td>1</td>\n",
       "      <td>0.0</td>\n",
       "      <td>0.0</td>\n",
       "      <td>0.0</td>\n",
       "      <td>11.0</td>\n",
       "      <td>0.0</td>\n",
       "      <td>0.0</td>\n",
       "      <td>2012</td>\n",
       "      <td>True</td>\n",
       "      <td>False</td>\n",
       "      <td>False</td>\n",
       "      <td>False</td>\n",
       "      <td>False</td>\n",
       "      <td>False</td>\n",
       "      <td>False</td>\n",
       "      <td>False</td>\n",
       "      <td>False</td>\n",
       "      <td>False</td>\n",
       "      <td>False</td>\n",
       "      <td>False</td>\n",
       "    </tr>\n",
       "    <tr>\n",
       "      <th>1</th>\n",
       "      <td>FOODS_1_012</td>\n",
       "      <td>CA_2</td>\n",
       "      <td>2012-02-01</td>\n",
       "      <td>0</td>\n",
       "      <td>1</td>\n",
       "      <td>1</td>\n",
       "      <td>1</td>\n",
       "      <td>0</td>\n",
       "      <td>6.08000</td>\n",
       "      <td>1</td>\n",
       "      <td>0.0</td>\n",
       "      <td>0.0</td>\n",
       "      <td>0.0</td>\n",
       "      <td>21.0</td>\n",
       "      <td>0.0</td>\n",
       "      <td>0.0</td>\n",
       "      <td>2012</td>\n",
       "      <td>False</td>\n",
       "      <td>True</td>\n",
       "      <td>False</td>\n",
       "      <td>False</td>\n",
       "      <td>False</td>\n",
       "      <td>False</td>\n",
       "      <td>False</td>\n",
       "      <td>False</td>\n",
       "      <td>False</td>\n",
       "      <td>False</td>\n",
       "      <td>False</td>\n",
       "      <td>False</td>\n",
       "    </tr>\n",
       "    <tr>\n",
       "      <th>2</th>\n",
       "      <td>FOODS_1_012</td>\n",
       "      <td>CA_2</td>\n",
       "      <td>2012-03-01</td>\n",
       "      <td>0</td>\n",
       "      <td>1</td>\n",
       "      <td>1</td>\n",
       "      <td>1</td>\n",
       "      <td>0</td>\n",
       "      <td>6.08000</td>\n",
       "      <td>1</td>\n",
       "      <td>0.0</td>\n",
       "      <td>0.0</td>\n",
       "      <td>0.0</td>\n",
       "      <td>0.0</td>\n",
       "      <td>0.0</td>\n",
       "      <td>0.0</td>\n",
       "      <td>2012</td>\n",
       "      <td>False</td>\n",
       "      <td>False</td>\n",
       "      <td>True</td>\n",
       "      <td>False</td>\n",
       "      <td>False</td>\n",
       "      <td>False</td>\n",
       "      <td>False</td>\n",
       "      <td>False</td>\n",
       "      <td>False</td>\n",
       "      <td>False</td>\n",
       "      <td>False</td>\n",
       "      <td>False</td>\n",
       "    </tr>\n",
       "    <tr>\n",
       "      <th>3</th>\n",
       "      <td>FOODS_1_012</td>\n",
       "      <td>CA_2</td>\n",
       "      <td>2012-04-01</td>\n",
       "      <td>0</td>\n",
       "      <td>1</td>\n",
       "      <td>1</td>\n",
       "      <td>1</td>\n",
       "      <td>0</td>\n",
       "      <td>6.08000</td>\n",
       "      <td>1</td>\n",
       "      <td>0.0</td>\n",
       "      <td>0.0</td>\n",
       "      <td>0.0</td>\n",
       "      <td>0.0</td>\n",
       "      <td>0.0</td>\n",
       "      <td>0.0</td>\n",
       "      <td>2012</td>\n",
       "      <td>False</td>\n",
       "      <td>False</td>\n",
       "      <td>False</td>\n",
       "      <td>True</td>\n",
       "      <td>False</td>\n",
       "      <td>False</td>\n",
       "      <td>False</td>\n",
       "      <td>False</td>\n",
       "      <td>False</td>\n",
       "      <td>False</td>\n",
       "      <td>False</td>\n",
       "      <td>False</td>\n",
       "    </tr>\n",
       "    <tr>\n",
       "      <th>4</th>\n",
       "      <td>FOODS_1_012</td>\n",
       "      <td>CA_2</td>\n",
       "      <td>2012-05-01</td>\n",
       "      <td>60</td>\n",
       "      <td>1</td>\n",
       "      <td>1</td>\n",
       "      <td>1</td>\n",
       "      <td>0</td>\n",
       "      <td>5.90675</td>\n",
       "      <td>1</td>\n",
       "      <td>0.0</td>\n",
       "      <td>0.0</td>\n",
       "      <td>0.0</td>\n",
       "      <td>0.0</td>\n",
       "      <td>0.0</td>\n",
       "      <td>0.0</td>\n",
       "      <td>2012</td>\n",
       "      <td>False</td>\n",
       "      <td>False</td>\n",
       "      <td>False</td>\n",
       "      <td>False</td>\n",
       "      <td>True</td>\n",
       "      <td>False</td>\n",
       "      <td>False</td>\n",
       "      <td>False</td>\n",
       "      <td>False</td>\n",
       "      <td>False</td>\n",
       "      <td>False</td>\n",
       "      <td>False</td>\n",
       "    </tr>\n",
       "  </tbody>\n",
       "</table>\n",
       "</div>"
      ],
      "text/plain": [
       "       item_id store_id       month  sales  event_name_1  snap_CA  snap_TX  \\\n",
       "0  FOODS_1_012     CA_2  2012-01-01      0             1        1        1   \n",
       "1  FOODS_1_012     CA_2  2012-02-01      0             1        1        1   \n",
       "2  FOODS_1_012     CA_2  2012-03-01      0             1        1        1   \n",
       "3  FOODS_1_012     CA_2  2012-04-01      0             1        1        1   \n",
       "4  FOODS_1_012     CA_2  2012-05-01     60             1        1        1   \n",
       "\n",
       "   snap_WI  sell_price  snap  lag_1  lag_2  lag_3  lag_6  lag_12  \\\n",
       "0        0     6.08000     1    0.0    0.0    0.0   11.0     0.0   \n",
       "1        0     6.08000     1    0.0    0.0    0.0   21.0     0.0   \n",
       "2        0     6.08000     1    0.0    0.0    0.0    0.0     0.0   \n",
       "3        0     6.08000     1    0.0    0.0    0.0    0.0     0.0   \n",
       "4        0     5.90675     1    0.0    0.0    0.0    0.0     0.0   \n",
       "\n",
       "   rolling_mean_3  year  month_1  month_2  month_3  month_4  month_5  month_6  \\\n",
       "0             0.0  2012     True    False    False    False    False    False   \n",
       "1             0.0  2012    False     True    False    False    False    False   \n",
       "2             0.0  2012    False    False     True    False    False    False   \n",
       "3             0.0  2012    False    False    False     True    False    False   \n",
       "4             0.0  2012    False    False    False    False     True    False   \n",
       "\n",
       "   month_7  month_8  month_9  month_10  month_11  month_12  \n",
       "0    False    False    False     False     False     False  \n",
       "1    False    False    False     False     False     False  \n",
       "2    False    False    False     False     False     False  \n",
       "3    False    False    False     False     False     False  \n",
       "4    False    False    False     False     False     False  "
      ]
     },
     "execution_count": 4,
     "metadata": {},
     "output_type": "execute_result"
    }
   ],
   "source": [
    "data.head(5)"
   ]
  },
  {
   "cell_type": "markdown",
   "id": "a75a56ee",
   "metadata": {},
   "source": [
    "Se comprueban valores nulos"
   ]
  },
  {
   "cell_type": "code",
   "execution_count": 5,
   "id": "47a99e83",
   "metadata": {},
   "outputs": [
    {
     "data": {
      "text/plain": [
       "item_id           0\n",
       "store_id          0\n",
       "month             0\n",
       "sales             0\n",
       "event_name_1      0\n",
       "snap_CA           0\n",
       "snap_TX           0\n",
       "snap_WI           0\n",
       "sell_price        0\n",
       "snap              0\n",
       "lag_1             0\n",
       "lag_2             0\n",
       "lag_3             0\n",
       "lag_6             0\n",
       "lag_12            0\n",
       "rolling_mean_3    0\n",
       "year              0\n",
       "month_1           0\n",
       "month_2           0\n",
       "month_3           0\n",
       "month_4           0\n",
       "month_5           0\n",
       "month_6           0\n",
       "month_7           0\n",
       "month_8           0\n",
       "month_9           0\n",
       "month_10          0\n",
       "month_11          0\n",
       "month_12          0\n",
       "dtype: int64"
      ]
     },
     "execution_count": 5,
     "metadata": {},
     "output_type": "execute_result"
    }
   ],
   "source": [
    "isna_sum = data.isna().sum()\n",
    "\n",
    "isna_sum.sort_values(ascending = False)"
   ]
  },
  {
   "cell_type": "code",
   "execution_count": 6,
   "id": "42dd040e",
   "metadata": {},
   "outputs": [
    {
     "data": {
      "text/plain": [
       "Index(['item_id', 'store_id', 'month', 'sales', 'event_name_1', 'snap_CA',\n",
       "       'snap_TX', 'snap_WI', 'sell_price', 'snap', 'lag_1', 'lag_2', 'lag_3',\n",
       "       'lag_6', 'lag_12', 'rolling_mean_3', 'year', 'month_1', 'month_2',\n",
       "       'month_3', 'month_4', 'month_5', 'month_6', 'month_7', 'month_8',\n",
       "       'month_9', 'month_10', 'month_11', 'month_12'],\n",
       "      dtype='object')"
      ]
     },
     "execution_count": 6,
     "metadata": {},
     "output_type": "execute_result"
    }
   ],
   "source": [
    "data.columns"
   ]
  },
  {
   "cell_type": "markdown",
   "id": "55d14e7e",
   "metadata": {},
   "source": [
    "`item_id`: Identificador único del producto o artículo.\n",
    "\n",
    "`store_id`: Identificador único de la tienda donde se vendió el producto.\n",
    "\n",
    "`month`: Fecha mensual en formato de periodo de tiempo.\n",
    "\n",
    "`sales`: Total de unidades vendidas del producto en la tienda en ese mes.\n",
    "\n",
    "`event_name_1`: Nombre del evento especial asociado a ese día/mes, como un feriado o promoción. Puede ser nulo si no hubo evento.\n",
    "\n",
    "`snap_CA`: Indican si un día está cubierto por el programa SNAP en California.\n",
    "\n",
    "`snap_TX`: Indican si un día está cubierto por el programa SNAP en Texas.\n",
    "\n",
    "`snap_WI`: Indican si un día está cubierto por el programa SNAP en Wisconsin.\n",
    "\n",
    "`sell_price`: Precio promedio al que se vendió el producto en ese mes.\n",
    "\n",
    "`snap`: Esta columna representa si el día o mes tiene un beneficio del programa SNAP (Supplemental Nutrition Assistance Program) activo.\n",
    "\n",
    "`lag_1, lag_2, lag_3, lag_6, lag_12`: Estas columnas son características de retraso (lag features) que representan las ventas del mismo producto en la misma tienda, pero con un desfase anterior de 1 mes, 2 meses, 3 meses, 6 meses y 12 meses. Ayudan al modelo a capturar patrones históricos y estacionalidades.\n",
    "\n",
    "`rolling_mean_3`: Es el promedio móvil de ventas de los últimos 3 meses, excluyendo el mes actual. Útil para detectar tendencias suaves a corto plazo.\n",
    "\n",
    "`month_1 a month_12`: Estas columnas son variables one-hot encoded para representar el mes en que ocurre la venta. Permiten al modelo capturar la estacionalidad mensual, como picos de ventas en diciembre o caídas en enero, etc.\n",
    "\n"
   ]
  },
  {
   "cell_type": "markdown",
   "id": "c90bf3db",
   "metadata": {},
   "source": [
    " ### 2. Estadísticas descriptivas básicas\n",
    " Se obtienen valores de media, mediana, moda, desviación estándar, rango, percentiles, cuartiles y la distribución"
   ]
  },
  {
   "cell_type": "code",
   "execution_count": 7,
   "id": "590cfd9c",
   "metadata": {},
   "outputs": [
    {
     "data": {
      "text/html": [
       "<div>\n",
       "<style scoped>\n",
       "    .dataframe tbody tr th:only-of-type {\n",
       "        vertical-align: middle;\n",
       "    }\n",
       "\n",
       "    .dataframe tbody tr th {\n",
       "        vertical-align: top;\n",
       "    }\n",
       "\n",
       "    .dataframe thead th {\n",
       "        text-align: right;\n",
       "    }\n",
       "</style>\n",
       "<table border=\"1\" class=\"dataframe\">\n",
       "  <thead>\n",
       "    <tr style=\"text-align: right;\">\n",
       "      <th></th>\n",
       "      <th>sales</th>\n",
       "      <th>event_name_1</th>\n",
       "      <th>snap_CA</th>\n",
       "      <th>snap_TX</th>\n",
       "      <th>snap_WI</th>\n",
       "      <th>sell_price</th>\n",
       "      <th>snap</th>\n",
       "      <th>lag_1</th>\n",
       "      <th>lag_2</th>\n",
       "      <th>lag_3</th>\n",
       "      <th>lag_6</th>\n",
       "      <th>lag_12</th>\n",
       "      <th>rolling_mean_3</th>\n",
       "      <th>year</th>\n",
       "    </tr>\n",
       "  </thead>\n",
       "  <tbody>\n",
       "    <tr>\n",
       "      <th>count</th>\n",
       "      <td>10600.000000</td>\n",
       "      <td>10600.000000</td>\n",
       "      <td>10600.0</td>\n",
       "      <td>10600.0</td>\n",
       "      <td>10600.0</td>\n",
       "      <td>10600.000000</td>\n",
       "      <td>10600.000000</td>\n",
       "      <td>10600.000000</td>\n",
       "      <td>10600.000000</td>\n",
       "      <td>10600.000000</td>\n",
       "      <td>10600.000000</td>\n",
       "      <td>10600.000000</td>\n",
       "      <td>10600.000000</td>\n",
       "      <td>10600.000000</td>\n",
       "    </tr>\n",
       "    <tr>\n",
       "      <th>mean</th>\n",
       "      <td>692.175660</td>\n",
       "      <td>0.962264</td>\n",
       "      <td>1.0</td>\n",
       "      <td>1.0</td>\n",
       "      <td>0.0</td>\n",
       "      <td>1.608005</td>\n",
       "      <td>0.700000</td>\n",
       "      <td>697.322736</td>\n",
       "      <td>698.533019</td>\n",
       "      <td>700.308302</td>\n",
       "      <td>699.860755</td>\n",
       "      <td>670.847453</td>\n",
       "      <td>698.721352</td>\n",
       "      <td>2013.735849</td>\n",
       "    </tr>\n",
       "    <tr>\n",
       "      <th>std</th>\n",
       "      <td>624.023876</td>\n",
       "      <td>0.190566</td>\n",
       "      <td>0.0</td>\n",
       "      <td>0.0</td>\n",
       "      <td>0.0</td>\n",
       "      <td>1.011744</td>\n",
       "      <td>0.458279</td>\n",
       "      <td>635.758060</td>\n",
       "      <td>642.589797</td>\n",
       "      <td>651.082129</td>\n",
       "      <td>658.105513</td>\n",
       "      <td>660.663182</td>\n",
       "      <td>610.286747</td>\n",
       "      <td>1.290826</td>\n",
       "    </tr>\n",
       "    <tr>\n",
       "      <th>min</th>\n",
       "      <td>0.000000</td>\n",
       "      <td>0.000000</td>\n",
       "      <td>1.0</td>\n",
       "      <td>1.0</td>\n",
       "      <td>0.0</td>\n",
       "      <td>0.156667</td>\n",
       "      <td>0.000000</td>\n",
       "      <td>0.000000</td>\n",
       "      <td>0.000000</td>\n",
       "      <td>0.000000</td>\n",
       "      <td>0.000000</td>\n",
       "      <td>0.000000</td>\n",
       "      <td>0.000000</td>\n",
       "      <td>2012.000000</td>\n",
       "    </tr>\n",
       "    <tr>\n",
       "      <th>25%</th>\n",
       "      <td>326.000000</td>\n",
       "      <td>1.000000</td>\n",
       "      <td>1.0</td>\n",
       "      <td>1.0</td>\n",
       "      <td>0.0</td>\n",
       "      <td>1.000000</td>\n",
       "      <td>0.000000</td>\n",
       "      <td>327.000000</td>\n",
       "      <td>326.000000</td>\n",
       "      <td>324.750000</td>\n",
       "      <td>319.000000</td>\n",
       "      <td>287.750000</td>\n",
       "      <td>341.583333</td>\n",
       "      <td>2013.000000</td>\n",
       "    </tr>\n",
       "    <tr>\n",
       "      <th>50%</th>\n",
       "      <td>535.000000</td>\n",
       "      <td>1.000000</td>\n",
       "      <td>1.0</td>\n",
       "      <td>1.0</td>\n",
       "      <td>0.0</td>\n",
       "      <td>1.480000</td>\n",
       "      <td>1.000000</td>\n",
       "      <td>538.000000</td>\n",
       "      <td>537.000000</td>\n",
       "      <td>536.000000</td>\n",
       "      <td>535.000000</td>\n",
       "      <td>513.000000</td>\n",
       "      <td>532.666667</td>\n",
       "      <td>2014.000000</td>\n",
       "    </tr>\n",
       "    <tr>\n",
       "      <th>75%</th>\n",
       "      <td>876.000000</td>\n",
       "      <td>1.000000</td>\n",
       "      <td>1.0</td>\n",
       "      <td>1.0</td>\n",
       "      <td>0.0</td>\n",
       "      <td>1.680000</td>\n",
       "      <td>1.000000</td>\n",
       "      <td>881.000000</td>\n",
       "      <td>881.000000</td>\n",
       "      <td>883.000000</td>\n",
       "      <td>885.250000</td>\n",
       "      <td>866.000000</td>\n",
       "      <td>866.333333</td>\n",
       "      <td>2015.000000</td>\n",
       "    </tr>\n",
       "    <tr>\n",
       "      <th>max</th>\n",
       "      <td>10821.000000</td>\n",
       "      <td>1.000000</td>\n",
       "      <td>1.0</td>\n",
       "      <td>1.0</td>\n",
       "      <td>0.0</td>\n",
       "      <td>6.980000</td>\n",
       "      <td>1.000000</td>\n",
       "      <td>10821.000000</td>\n",
       "      <td>10821.000000</td>\n",
       "      <td>10821.000000</td>\n",
       "      <td>10821.000000</td>\n",
       "      <td>10821.000000</td>\n",
       "      <td>8404.000000</td>\n",
       "      <td>2016.000000</td>\n",
       "    </tr>\n",
       "  </tbody>\n",
       "</table>\n",
       "</div>"
      ],
      "text/plain": [
       "              sales  event_name_1  snap_CA  snap_TX  snap_WI    sell_price  \\\n",
       "count  10600.000000  10600.000000  10600.0  10600.0  10600.0  10600.000000   \n",
       "mean     692.175660      0.962264      1.0      1.0      0.0      1.608005   \n",
       "std      624.023876      0.190566      0.0      0.0      0.0      1.011744   \n",
       "min        0.000000      0.000000      1.0      1.0      0.0      0.156667   \n",
       "25%      326.000000      1.000000      1.0      1.0      0.0      1.000000   \n",
       "50%      535.000000      1.000000      1.0      1.0      0.0      1.480000   \n",
       "75%      876.000000      1.000000      1.0      1.0      0.0      1.680000   \n",
       "max    10821.000000      1.000000      1.0      1.0      0.0      6.980000   \n",
       "\n",
       "               snap         lag_1         lag_2         lag_3         lag_6  \\\n",
       "count  10600.000000  10600.000000  10600.000000  10600.000000  10600.000000   \n",
       "mean       0.700000    697.322736    698.533019    700.308302    699.860755   \n",
       "std        0.458279    635.758060    642.589797    651.082129    658.105513   \n",
       "min        0.000000      0.000000      0.000000      0.000000      0.000000   \n",
       "25%        0.000000    327.000000    326.000000    324.750000    319.000000   \n",
       "50%        1.000000    538.000000    537.000000    536.000000    535.000000   \n",
       "75%        1.000000    881.000000    881.000000    883.000000    885.250000   \n",
       "max        1.000000  10821.000000  10821.000000  10821.000000  10821.000000   \n",
       "\n",
       "             lag_12  rolling_mean_3          year  \n",
       "count  10600.000000    10600.000000  10600.000000  \n",
       "mean     670.847453      698.721352   2013.735849  \n",
       "std      660.663182      610.286747      1.290826  \n",
       "min        0.000000        0.000000   2012.000000  \n",
       "25%      287.750000      341.583333   2013.000000  \n",
       "50%      513.000000      532.666667   2014.000000  \n",
       "75%      866.000000      866.333333   2015.000000  \n",
       "max    10821.000000     8404.000000   2016.000000  "
      ]
     },
     "execution_count": 7,
     "metadata": {},
     "output_type": "execute_result"
    }
   ],
   "source": [
    "data.describe()"
   ]
  },
  {
   "cell_type": "markdown",
   "id": "a0ef2a1f",
   "metadata": {},
   "source": [
    "### 3. Análisis descriptivo por columna"
   ]
  },
  {
   "cell_type": "code",
   "execution_count": 22,
   "id": "0973eccd",
   "metadata": {},
   "outputs": [
    {
     "data": {
      "text/plain": [
       "Index(['item_id', 'store_id', 'month', 'sales', 'event_name_1', 'snap_CA',\n",
       "       'snap_TX', 'snap_WI', 'sell_price', 'snap', 'lag_1', 'lag_2', 'lag_3',\n",
       "       'lag_6', 'lag_12', 'rolling_mean_3', 'year', 'month_1', 'month_2',\n",
       "       'month_3', 'month_4', 'month_5', 'month_6', 'month_7', 'month_8',\n",
       "       'month_9', 'month_10', 'month_11', 'month_12'],\n",
       "      dtype='object')"
      ]
     },
     "execution_count": 22,
     "metadata": {},
     "output_type": "execute_result"
    }
   ],
   "source": [
    "data.columns"
   ]
  },
  {
   "cell_type": "markdown",
   "id": "df8aea15",
   "metadata": {},
   "source": [
    "#### Sales"
   ]
  },
  {
   "cell_type": "code",
   "execution_count": 23,
   "id": "201d60f0",
   "metadata": {},
   "outputs": [
    {
     "name": "stdout",
     "output_type": "stream",
     "text": [
      "count    10600.000000\n",
      "mean       692.175660\n",
      "std        624.023876\n",
      "min          0.000000\n",
      "25%        326.000000\n",
      "50%        535.000000\n",
      "75%        876.000000\n",
      "max      10821.000000\n",
      "Name: sales, dtype: float64\n",
      "Median: 535.0\n",
      "Mode: 0\n",
      "Rango: 10821\n"
     ]
    }
   ],
   "source": [
    "print(data.sales.describe())\n",
    "print(f'Median: {data.sales.median()}')\n",
    "print(f'Mode: {data.sales.mode()[0]}') # He puesto el [0] para mostrar solo el valor de la moda porque si no aparece con el indice.  \n",
    "range_ = max(data.sales) - min(data.sales)\n",
    "print(f\"Rango: {range_}\")"
   ]
  },
  {
   "cell_type": "markdown",
   "id": "19d39382",
   "metadata": {},
   "source": [
    "- Comprobamos los valores únicos que tenemos de productos"
   ]
  },
  {
   "cell_type": "code",
   "execution_count": 24,
   "id": "51bf6732",
   "metadata": {},
   "outputs": [
    {
     "data": {
      "text/plain": [
       "66"
      ]
     },
     "execution_count": 24,
     "metadata": {},
     "output_type": "execute_result"
    }
   ],
   "source": [
    "data['item_id'].nunique()"
   ]
  },
  {
   "cell_type": "markdown",
   "id": "8899e50b",
   "metadata": {},
   "source": [
    "- En la columna sales vemos que de media sale 692.17 productos y un máximo de 10821. ``Como estamos representando 516 productos por cada día, podemos ver que tenemos ventas todos los días de al menos más de 1 producto y que hay picos en los que alguna referencia se han vendido 294 unidades.``\n",
    "\n",
    "- Moda: vemos que el valor más repetidos del subconjunto seleccionado para las ventas por producto es 0.\n",
    "\n",
    "- Mediana: vemos que el valor central del conjunto de datos es 535."
   ]
  },
  {
   "cell_type": "markdown",
   "id": "3346c698",
   "metadata": {},
   "source": [
    "Se comprueba si hay valores nulos:"
   ]
  },
  {
   "cell_type": "code",
   "execution_count": 25,
   "id": "5a98dc6d",
   "metadata": {},
   "outputs": [
    {
     "name": "stdout",
     "output_type": "stream",
     "text": [
      "0\n"
     ]
    }
   ],
   "source": [
    "print(data.sales.isnull().sum())"
   ]
  },
  {
   "cell_type": "markdown",
   "id": "3f006963",
   "metadata": {},
   "source": [
    "Se comprueba los valores únicos:"
   ]
  },
  {
   "cell_type": "code",
   "execution_count": 26,
   "id": "32a15bcb",
   "metadata": {},
   "outputs": [
    {
     "name": "stdout",
     "output_type": "stream",
     "text": [
      "2077\n"
     ]
    }
   ],
   "source": [
    "print(data.sales.nunique())"
   ]
  },
  {
   "cell_type": "code",
   "execution_count": 27,
   "id": "c1f2eaac",
   "metadata": {},
   "outputs": [
    {
     "data": {
      "text/plain": [
       "dtype('int64')"
      ]
     },
     "execution_count": 27,
     "metadata": {},
     "output_type": "execute_result"
    }
   ],
   "source": [
    "data.sales.dtype"
   ]
  },
  {
   "cell_type": "markdown",
   "id": "6b3491c7",
   "metadata": {},
   "source": [
    "- Distribución: Se observa que sigue una distribución normal sesgada a la izquierda."
   ]
  },
  {
   "cell_type": "code",
   "execution_count": 28,
   "id": "d354962a",
   "metadata": {},
   "outputs": [
    {
     "data": {
      "image/png": "[encoded data removed]",
      "text/plain": [
       "<Figure size 600x300 with 1 Axes>"
      ]
     },
     "metadata": {},
     "output_type": "display_data"
    }
   ],
   "source": [
    "plt.figure(figsize=(6,3))\n",
    "sns.histplot(data['sales'], kde=True, bins=50)\n",
    "plt.title('Distribución de sales')\n",
    "plt.xlabel('sales')\n",
    "plt.ylabel('Frecuencia')\n",
    "plt.grid(True, linestyle='--', linewidth=0.7)\n",
    "plt.show()"
   ]
  },
  {
   "cell_type": "markdown",
   "id": "724712ba",
   "metadata": {},
   "source": [
    "#### Sell_price"
   ]
  },
  {
   "cell_type": "code",
   "execution_count": 30,
   "id": "9fdd90e6",
   "metadata": {},
   "outputs": [
    {
     "name": "stdout",
     "output_type": "stream",
     "text": [
      "count    10600.000000\n",
      "mean         1.608005\n",
      "std          1.011744\n",
      "min          0.156667\n",
      "25%          1.000000\n",
      "50%          1.480000\n",
      "75%          1.680000\n",
      "max          6.980000\n",
      "Name: sell_price, dtype: float64\n",
      "Median: 1.48\n",
      "Mode: 1.58\n",
      "Rango: 6.823333333333335\n"
     ]
    }
   ],
   "source": [
    "print(data.sell_price.describe())\n",
    "print(f'Median: {data.sell_price.median()}')\n",
    "print(f'Mode: {data.sell_price.mode()[0]}') # He puesto el [0] para mostrar solo el valor de la moda porque si no aparece con el indice.  \n",
    "range_ = max(data.sell_price) - min(data.sell_price)\n",
    "print(f\"Rango: {range_}\")"
   ]
  },
  {
   "cell_type": "markdown",
   "id": "9587db0d",
   "metadata": {},
   "source": [
    "Se comprueba si hay valores nulos:"
   ]
  },
  {
   "cell_type": "code",
   "execution_count": 31,
   "id": "75e4c0e6",
   "metadata": {},
   "outputs": [
    {
     "name": "stdout",
     "output_type": "stream",
     "text": [
      "0\n"
     ]
    }
   ],
   "source": [
    "print(data.sell_price.isnull().sum())"
   ]
  },
  {
   "cell_type": "markdown",
   "id": "c2c18ad6",
   "metadata": {},
   "source": [
    "Se comprueba los valores únicos:"
   ]
  },
  {
   "cell_type": "code",
   "execution_count": 32,
   "id": "82b7a1f9",
   "metadata": {},
   "outputs": [
    {
     "name": "stdout",
     "output_type": "stream",
     "text": [
      "447\n"
     ]
    }
   ],
   "source": [
    "print(data.sell_price.nunique())"
   ]
  },
  {
   "cell_type": "code",
   "execution_count": 33,
   "id": "eafb81c5",
   "metadata": {},
   "outputs": [
    {
     "data": {
      "text/plain": [
       "dtype('float64')"
      ]
     },
     "execution_count": 33,
     "metadata": {},
     "output_type": "execute_result"
    }
   ],
   "source": [
    "data.sell_price.dtype"
   ]
  },
  {
   "cell_type": "markdown",
   "id": "a4b6f6b9",
   "metadata": {},
   "source": [
    "- Distribución"
   ]
  },
  {
   "cell_type": "code",
   "execution_count": 34,
   "id": "d67ed4eb",
   "metadata": {},
   "outputs": [
    {
     "data": {
      "image/png": "[encoded data removed]",
      "text/plain": [
       "<Figure size 600x300 with 1 Axes>"
      ]
     },
     "metadata": {},
     "output_type": "display_data"
    }
   ],
   "source": [
    "plt.figure(figsize=(6,3))\n",
    "sns.histplot(data['sell_price'], kde=True, bins=50)\n",
    "plt.title('Distribución de sell_price')\n",
    "plt.xlabel('sell_price')\n",
    "plt.ylabel('Frecuencia')\n",
    "plt.grid(True, linestyle='--', linewidth=0.7)\n",
    "plt.show()"
   ]
  },
  {
   "cell_type": "markdown",
   "id": "f94e99cd",
   "metadata": {},
   "source": [
    "### 4. Correlaciones y relaciones entre variables"
   ]
  },
  {
   "cell_type": "markdown",
   "id": "50572488",
   "metadata": {},
   "source": [
    "### 5. Detección de valores atípicos"
   ]
  }
 ],
 "metadata": {
  "kernelspec": {
   "display_name": "Python 3",
   "language": "python",
   "name": "python3"
  },
  "language_info": {
   "codemirror_mode": {
    "name": "ipython",
    "version": 3
   },
   "file_extension": ".py",
   "mimetype": "text/x-python",
   "name": "python",
   "nbconvert_exporter": "python",
   "pygments_lexer": "ipython3",
   "version": "3.11.9"
  }
 },
 "nbformat": 4,
 "nbformat_minor": 5
}
