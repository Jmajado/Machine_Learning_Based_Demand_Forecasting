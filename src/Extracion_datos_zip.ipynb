{
 "cells": [
  {
   "cell_type": "markdown",
   "metadata": {},
   "source": [
    "## CPI de cada pais en 2018 "
   ]
  },
  {
   "cell_type": "code",
   "execution_count": 132,
   "metadata": {},
   "outputs": [
    {
     "name": "stdout",
     "output_type": "stream",
     "text": [
      "Archivos en el ZIP: ['Metadata_Indicator_API_FP.CPI.TOTL.ZG_DS2_en_csv_v2_19489.csv', 'API_FP.CPI.TOTL.ZG_DS2_en_csv_v2_19489.csv', 'Metadata_Country_API_FP.CPI.TOTL.ZG_DS2_en_csv_v2_19489.csv']\n",
      "                  Country Name Country Code  \\\n",
      "0                        Aruba          ABW   \n",
      "1  Africa Eastern and Southern          AFE   \n",
      "2                  Afghanistan          AFG   \n",
      "3   Africa Western and Central          AFW   \n",
      "4                       Angola          AGO   \n",
      "\n",
      "                          Indicator Name  Indicator Code  1960  1961  1962  \\\n",
      "0  Inflation, consumer prices (annual %)  FP.CPI.TOTL.ZG   NaN   NaN   NaN   \n",
      "1  Inflation, consumer prices (annual %)  FP.CPI.TOTL.ZG   NaN   NaN   NaN   \n",
      "2  Inflation, consumer prices (annual %)  FP.CPI.TOTL.ZG   NaN   NaN   NaN   \n",
      "3  Inflation, consumer prices (annual %)  FP.CPI.TOTL.ZG   NaN   NaN   NaN   \n",
      "4  Inflation, consumer prices (annual %)  FP.CPI.TOTL.ZG   NaN   NaN   NaN   \n",
      "\n",
      "   1963  1964  1965  ...       2016       2017       2018       2019  \\\n",
      "0   NaN   NaN   NaN  ...  -0.931196  -1.028282   3.626041   4.257462   \n",
      "1   NaN   NaN   NaN  ...   6.596505   6.399343   4.720805   4.644967   \n",
      "2   NaN   NaN   NaN  ...   4.383892   4.975952   0.626149   2.302373   \n",
      "3   NaN   NaN   NaN  ...   1.487416   1.725486   1.784050   1.983092   \n",
      "4   NaN   NaN   NaN  ...  30.694415  29.844480  19.628938  17.080954   \n",
      "\n",
      "        2020       2021       2022       2023       2024  Unnamed: 69  \n",
      "0        NaN        NaN        NaN        NaN        NaN          NaN  \n",
      "1   5.405162   7.240978  10.773751   7.126975        NaN          NaN  \n",
      "2   5.601888   5.133203  13.712102  -4.644709  -6.601186          NaN  \n",
      "3   2.490378   3.745700   7.949251   5.221168        NaN          NaN  \n",
      "4  22.271539  25.754295  21.355290  13.644102  28.240495          NaN  \n",
      "\n",
      "[5 rows x 70 columns]\n"
     ]
    }
   ],
   "source": [
    "import pandas as pd\n",
    "import os\n",
    "import pandas as pd\n",
    "from zipfile import ZipFile\n",
    "import io\n",
    "\n",
    "# Directorio actual\n",
    "current_dir = os.getcwd()\n",
    "cpi_path = os.path.join(current_dir, \"../data/zip/API_FP.CPI.TOTL.ZG_DS2_en_csv_v2_19489.zip\")\n",
    "\n",
    "with ZipFile(cpi_path) as z:\n",
    "    # Listar archivos disponibles \n",
    "    print(\"Archivos en el ZIP:\", z.namelist())\n",
    "    \n",
    "    # Extraer y leer el archivo principal\n",
    "    with z.open('API_FP.CPI.TOTL.ZG_DS2_en_csv_v2_19489.csv') as f:\n",
    "        # Leer como DataFrame \n",
    "        df = pd.read_csv(io.BytesIO(f.read()), encoding='utf-8', skiprows=4)\n",
    "      \n",
    "# Mostrar las primeras filas del DataFrame\n",
    "print(df.head())"
   ]
  },
  {
   "cell_type": "code",
   "execution_count": 133,
   "metadata": {},
   "outputs": [
    {
     "name": "stdout",
     "output_type": "stream",
     "text": [
      "Columnas disponibles: Index(['Country Name', 'Country Code', 'Indicator Name', 'Indicator Code',\n",
      "       '1960', '1961', '1962', '1963', '1964', '1965', '1966', '1967', '1968',\n",
      "       '1969', '1970', '1971', '1972', '1973', '1974', '1975', '1976', '1977',\n",
      "       '1978', '1979', '1980', '1981', '1982', '1983', '1984', '1985', '1986',\n",
      "       '1987', '1988', '1989', '1990', '1991', '1992', '1993', '1994', '1995',\n",
      "       '1996', '1997', '1998', '1999', '2000', '2001', '2002', '2003', '2004',\n",
      "       '2005', '2006', '2007', '2008', '2009', '2010', '2011', '2012', '2013',\n",
      "       '2014', '2015', '2016', '2017', '2018', '2019', '2020', '2021', '2022',\n",
      "       '2023', '2024', 'Unnamed: 69'],\n",
      "      dtype='object')\n"
     ]
    }
   ],
   "source": [
    "print(\"Columnas disponibles:\", df.columns)"
   ]
  },
  {
   "cell_type": "code",
   "execution_count": 134,
   "metadata": {},
   "outputs": [
    {
     "name": "stdout",
     "output_type": "stream",
     "text": [
      "CPI 2018:\n",
      "                         Country  cpi_2018_%\n",
      "0                          Aruba    3.626041\n",
      "1    Africa Eastern and Southern    4.720805\n",
      "2                    Afghanistan    0.626149\n",
      "3     Africa Western and Central    1.784050\n",
      "4                         Angola   19.628938\n",
      "..                           ...         ...\n",
      "261                       Kosovo    1.053798\n",
      "262                  Yemen, Rep.         NaN\n",
      "263                 South Africa    4.509873\n",
      "264                       Zambia    7.494572\n",
      "265                     Zimbabwe   10.618866\n",
      "\n",
      "[266 rows x 2 columns]\n"
     ]
    }
   ],
   "source": [
    "# Seleccionar columnas específicas para 2018\n",
    "cpi_df = df[['Country Name', '2018' ]].copy()\n",
    "\n",
    "# Renombrar columnas \n",
    "cpi_df = cpi_df.rename(columns={\n",
    "    'Country Name': 'Country',\n",
    "    '2018': 'cpi_2018_%',\n",
    "    \n",
    "})\n",
    "# Mostrar resultados\n",
    "print(\"CPI 2018:\")\n",
    "print(cpi_df)\n",
    "\n",
    "## Guardar en CSV\n",
    "# Path\n",
    "cpi_save_path = os.path.join(current_dir, '../data/raw/macrodata')\n",
    "# Crear un directorio si no existe\n",
    "os.makedirs(cpi_save_path, exist_ok=True)\n",
    "# Archivo CSV\n",
    "cpi_data = os.path.join(cpi_save_path, \"cpi(%).csv\")\n",
    "# Guardar dataframe en CSV\n",
    "cpi_df.to_csv(cpi_data, index=False)"
   ]
  },
  {
   "cell_type": "markdown",
   "metadata": {},
   "source": [
    "## Desempleo_2018 \n",
    "Índice de Desempleo (OK)\n",
    "https://data.worldbank.org/indicator/SL.UEM.TOTL.ZS\n"
   ]
  },
  {
   "cell_type": "code",
   "execution_count": 161,
   "metadata": {},
   "outputs": [
    {
     "name": "stdout",
     "output_type": "stream",
     "text": [
      "Archivos en el ZIP: ['Metadata_Indicator_API_SL.UEM.TOTL.ZS_DS2_en_csv_v2_19329.csv', 'API_SL.UEM.TOTL.ZS_DS2_en_csv_v2_19329.csv', 'Metadata_Country_API_SL.UEM.TOTL.ZS_DS2_en_csv_v2_19329.csv']\n",
      "     Country Name Country Code                                Indicator Name  \\\n",
      "0           Aruba          ABW  Unemployment, total (% of total labor force)   \n",
      "1     Afghanistan          AFG  Unemployment, total (% of total labor force)   \n",
      "2          Angola          AGO  Unemployment, total (% of total labor force)   \n",
      "3        Anguilla          AIA  Unemployment, total (% of total labor force)   \n",
      "4         Albania          ALB  Unemployment, total (% of total labor force)   \n",
      "..            ...          ...                                           ...   \n",
      "267        Kosovo          XKX  Unemployment, total (% of total labor force)   \n",
      "268   Yemen, Rep.          YEM  Unemployment, total (% of total labor force)   \n",
      "269  South Africa          ZAF  Unemployment, total (% of total labor force)   \n",
      "270        Zambia          ZMB  Unemployment, total (% of total labor force)   \n",
      "271      Zimbabwe          ZWE  Unemployment, total (% of total labor force)   \n",
      "\n",
      "     Indicator Code       1995       1996    1997       1998       1999  \\\n",
      "0    SL.UEM.TOTL.ZS        NaN        NaN     NaN        NaN        NaN   \n",
      "1    SL.UEM.TOTL.ZS  11.477000  11.499000  11.480  11.472000  11.547000   \n",
      "2    SL.UEM.TOTL.ZS   3.819000   3.829000   3.821   3.818000   3.850000   \n",
      "3    SL.UEM.TOTL.ZS        NaN        NaN     NaN        NaN        NaN   \n",
      "4    SL.UEM.TOTL.ZS  16.521999  16.549999  16.525  16.516001  16.611000   \n",
      "..              ...        ...        ...     ...        ...        ...   \n",
      "267  SL.UEM.TOTL.ZS        NaN        NaN     NaN        NaN        NaN   \n",
      "268  SL.UEM.TOTL.ZS   8.917000   9.525000  10.119  10.741000  11.460000   \n",
      "269  SL.UEM.TOTL.ZS  30.157000  30.194000  30.164  30.153999  30.275999   \n",
      "270  SL.UEM.TOTL.ZS  16.702999  15.300000  13.593  12.000000  12.510000   \n",
      "271  SL.UEM.TOTL.ZS   5.583000   6.254000   6.930   6.426000   6.000000   \n",
      "\n",
      "       2000  ...  2060  2065  2070  2075  2080  2085  2090  2095  2100  \\\n",
      "0       NaN  ...   NaN   NaN   NaN   NaN   NaN   NaN   NaN   NaN   NaN   \n",
      "1    11.517  ...   NaN   NaN   NaN   NaN   NaN   NaN   NaN   NaN   NaN   \n",
      "2     3.837  ...   NaN   NaN   NaN   NaN   NaN   NaN   NaN   NaN   NaN   \n",
      "3       NaN  ...   NaN   NaN   NaN   NaN   NaN   NaN   NaN   NaN   NaN   \n",
      "4    16.573  ...   NaN   NaN   NaN   NaN   NaN   NaN   NaN   NaN   NaN   \n",
      "..      ...  ...   ...   ...   ...   ...   ...   ...   ...   ...   ...   \n",
      "267     NaN  ...   NaN   NaN   NaN   NaN   NaN   NaN   NaN   NaN   NaN   \n",
      "268  11.567  ...   NaN   NaN   NaN   NaN   NaN   NaN   NaN   NaN   NaN   \n",
      "269  30.229  ...   NaN   NaN   NaN   NaN   NaN   NaN   NaN   NaN   NaN   \n",
      "270  12.930  ...   NaN   NaN   NaN   NaN   NaN   NaN   NaN   NaN   NaN   \n",
      "271   5.640  ...   NaN   NaN   NaN   NaN   NaN   NaN   NaN   NaN   NaN   \n",
      "\n",
      "     Unnamed: 70  \n",
      "0            NaN  \n",
      "1            NaN  \n",
      "2            NaN  \n",
      "3            NaN  \n",
      "4            NaN  \n",
      "..           ...  \n",
      "267          NaN  \n",
      "268          NaN  \n",
      "269          NaN  \n",
      "270          NaN  \n",
      "271          NaN  \n",
      "\n",
      "[272 rows x 71 columns]\n"
     ]
    }
   ],
   "source": [
    "import pandas as pd\n",
    "from zipfile import ZipFile\n",
    "import io\n",
    "\n",
    "# Ruta al archivo ZIP\n",
    "desempleo_total_zip_path = os.path.join(current_dir, '..\\data\\zip\\API_SL.UEM.TOTL.ZS_DS2_en_csv_v2_19329.zip')\n",
    "\n",
    "with ZipFile(desempleo_total_zip_path) as z:\n",
    "    # Listar archivos disponibles \n",
    "    print(\"Archivos en el ZIP:\", z.namelist())\n",
    "    \n",
    "    # Extraer y leer el archivo principal\n",
    "    with z.open('API_SL.UEM.TOTL.ZS_DS2_en_csv_v2_19329.csv') as f:\n",
    "        # Leer como DataFrame \n",
    "        df_desempleo = pd.read_csv(io.BytesIO(f.read()), encoding='utf-8', skiprows=4)\n",
    "        \n",
    "print(df_desempleo)"
   ]
  },
  {
   "cell_type": "code",
   "execution_count": 162,
   "metadata": {},
   "outputs": [
    {
     "name": "stdout",
     "output_type": "stream",
     "text": [
      "Columnas disponibles: Index(['Country Name', 'Country Code', 'Indicator Name', 'Indicator Code',\n",
      "       '1995', '1996', '1997', '1998', '1999', '2000', '2001', '2002', '2003',\n",
      "       '2004', '2005', '2006', '2007', '2008', '2009', '2010', '2011', '2012',\n",
      "       '2013', '2014', '2015', '2016', '2017', '2018', '2019', '2020', '2021',\n",
      "       '2022', '2023', '2024', '2025', '2026', '2027', '2028', '2029', '2030',\n",
      "       '2031', '2032', '2033', '2034', '2035', '2036', '2037', '2038', '2039',\n",
      "       '2040', '2041', '2042', '2043', '2044', '2045', '2046', '2047', '2048',\n",
      "       '2049', '2050', '2055', '2060', '2065', '2070', '2075', '2080', '2085',\n",
      "       '2090', '2095', '2100', 'Unnamed: 70'],\n",
      "      dtype='object')\n"
     ]
    }
   ],
   "source": [
    "print(\"Columnas disponibles:\", df_desempleo.columns)"
   ]
  },
  {
   "cell_type": "code",
   "execution_count": 163,
   "metadata": {},
   "outputs": [
    {
     "name": "stdout",
     "output_type": "stream",
     "text": [
      "Desempleo total en 2018 (% de la fuerza laboral):\n",
      "          Country  unemployed_index_2018_%\n",
      "0           Aruba                      NaN\n",
      "1     Afghanistan                   11.057\n",
      "2          Angola                    7.019\n",
      "3        Anguilla                      NaN\n",
      "4         Albania                   12.340\n",
      "..            ...                      ...\n",
      "267        Kosovo                      NaN\n",
      "268   Yemen, Rep.                   13.002\n",
      "269  South Africa                   26.920\n",
      "270        Zambia                   11.500\n",
      "271      Zimbabwe                    5.087\n",
      "\n",
      "[272 rows x 2 columns]\n"
     ]
    }
   ],
   "source": [
    "# Seleccionar columnas específicas para 2018\n",
    "df_desempleo = df_desempleo[['Country Name', '2018' ]].copy()\n",
    "\n",
    "# Renombrar columnas \n",
    "df_desempleo = df_desempleo.rename(columns={\n",
    "    'Country Name': 'Country',\n",
    "    '2018': 'unemployed_index_2018_%',\n",
    "    \n",
    "})\n",
    "# Mostrar resultados\n",
    "print(\"Desempleo total en 2018 (% de la fuerza laboral):\")\n",
    "print(df_desempleo)\n",
    "\n",
    "## Guardar en CSV\n",
    "# Path\n",
    "desempleo_total_path = os.path.join(current_dir, '../data/raw/macrodata')\n",
    "# Crear un directorio si no existe\n",
    "os.makedirs(desempleo_total_path, exist_ok=True)\n",
    "# Archivo CSV\n",
    "desempleo_total_data = os.path.join(desempleo_total_path, \"unemployed_total_index(%).csv\")\n",
    "# Guardar dataframe en CSV\n",
    "df_desempleo.to_csv(desempleo_total_data, index=False)\n"
   ]
  },
  {
   "cell_type": "markdown",
   "metadata": {},
   "source": [
    "## Tasa de interés"
   ]
  },
  {
   "cell_type": "code",
   "execution_count": 178,
   "metadata": {},
   "outputs": [
    {
     "name": "stdout",
     "output_type": "stream",
     "text": [
      "Archivos en el ZIP: ['Metadata_Indicator_API_FR.INR.RINR_DS2_en_csv_v2_19336.csv', 'API_FR.INR.RINR_DS2_en_csv_v2_19336.csv', 'Metadata_Country_API_FR.INR.RINR_DS2_en_csv_v2_19336.csv']\n",
      "                    Country Name Country Code          Indicator Name  \\\n",
      "0                          Aruba          ABW  Real interest rate (%)   \n",
      "1    Africa Eastern and Southern          AFE  Real interest rate (%)   \n",
      "2                    Afghanistan          AFG  Real interest rate (%)   \n",
      "3     Africa Western and Central          AFW  Real interest rate (%)   \n",
      "4                         Angola          AGO  Real interest rate (%)   \n",
      "..                           ...          ...                     ...   \n",
      "261                       Kosovo          XKX  Real interest rate (%)   \n",
      "262                  Yemen, Rep.          YEM  Real interest rate (%)   \n",
      "263                 South Africa          ZAF  Real interest rate (%)   \n",
      "264                       Zambia          ZMB  Real interest rate (%)   \n",
      "265                     Zimbabwe          ZWE  Real interest rate (%)   \n",
      "\n",
      "    Indicator Code  1960      1961      1962      1963      1964      1965  \\\n",
      "0      FR.INR.RINR   NaN       NaN       NaN       NaN       NaN       NaN   \n",
      "1      FR.INR.RINR   NaN       NaN       NaN       NaN       NaN       NaN   \n",
      "2      FR.INR.RINR   NaN       NaN       NaN       NaN       NaN       NaN   \n",
      "3      FR.INR.RINR   NaN       NaN       NaN       NaN       NaN       NaN   \n",
      "4      FR.INR.RINR   NaN       NaN       NaN       NaN       NaN       NaN   \n",
      "..             ...   ...       ...       ...       ...       ...       ...   \n",
      "261    FR.INR.RINR   NaN       NaN       NaN       NaN       NaN       NaN   \n",
      "262    FR.INR.RINR   NaN       NaN       NaN       NaN       NaN       NaN   \n",
      "263    FR.INR.RINR   NaN  5.200152  6.013274  2.423273  3.667879  3.800071   \n",
      "264    FR.INR.RINR   NaN       NaN       NaN       NaN       NaN       NaN   \n",
      "265    FR.INR.RINR   NaN       NaN       NaN       NaN       NaN       NaN   \n",
      "\n",
      "     ...       2016       2017      2018       2019       2020       2021  \\\n",
      "0    ...   7.982852   9.789287  2.453045  -0.299776   7.825935  11.897084   \n",
      "1    ...        NaN        NaN       NaN        NaN        NaN        NaN   \n",
      "2    ...  17.583938  12.141178       NaN        NaN        NaN        NaN   \n",
      "3    ...        NaN        NaN       NaN        NaN        NaN        NaN   \n",
      "4    ...  -4.922003  -5.552698 -5.844003   0.090919   8.028657 -13.989372   \n",
      "..   ...        ...        ...       ...        ...        ...        ...   \n",
      "261  ...   6.615990   6.364675  5.079009        NaN        NaN        NaN   \n",
      "262  ...        NaN        NaN       NaN        NaN        NaN        NaN   \n",
      "263  ...   3.278252   4.647315  5.856184   5.268416   2.198414   0.472107   \n",
      "264  ...   1.693929   2.091490  2.215865   2.469674  -3.893032        NaN   \n",
      "265  ...   4.998563 -64.281571  3.454590 -64.295151 -81.132121 -31.795551   \n",
      "\n",
      "          2022       2023  2024  Unnamed: 69  \n",
      "0     2.852654  -0.852278   NaN          NaN  \n",
      "1          NaN        NaN   NaN          NaN  \n",
      "2          NaN        NaN   NaN          NaN  \n",
      "3          NaN        NaN   NaN          NaN  \n",
      "4     5.634143  -0.594014   NaN          NaN  \n",
      "..         ...        ...   ...          ...  \n",
      "261        NaN        NaN   NaN          NaN  \n",
      "262        NaN        NaN   NaN          NaN  \n",
      "263   3.618541   6.388794   NaN          NaN  \n",
      "264        NaN        NaN   NaN          NaN  \n",
      "265 -36.833393 -73.540441   NaN          NaN  \n",
      "\n",
      "[266 rows x 70 columns]\n"
     ]
    }
   ],
   "source": [
    "import pandas as pd\n",
    "from zipfile import ZipFile\n",
    "import io\n",
    "\n",
    "# Ruta al archivo ZIP\n",
    "tasa_interes_path = os.path.join(current_dir, r'..\\data\\zip\\Tasas de interes.zip')\n",
    "\n",
    "with ZipFile(tasa_interes_path) as z:\n",
    "    # Listar archivos disponibles \n",
    "    print(\"Archivos en el ZIP:\", z.namelist())\n",
    "    \n",
    "    # Extraer y leer el archivo principal\n",
    "    with z.open('API_FR.INR.RINR_DS2_en_csv_v2_19336.csv') as f:\n",
    "        # Leer como DataFrame \n",
    "        df_tasa_interes = pd.read_csv(io.BytesIO(f.read()), encoding='utf-8', skiprows=4)\n",
    "        \n",
    "print(df_tasa_interes)"
   ]
  },
  {
   "cell_type": "code",
   "execution_count": 179,
   "metadata": {},
   "outputs": [
    {
     "name": "stdout",
     "output_type": "stream",
     "text": [
      "Columnas disponibles: ['Country Name', 'Country Code', 'Indicator Name', 'Indicator Code', '1960', '1961', '1962', '1963', '1964', '1965', '1966', '1967', '1968', '1969', '1970', '1971', '1972', '1973', '1974', '1975', '1976', '1977', '1978', '1979', '1980', '1981', '1982', '1983', '1984', '1985', '1986', '1987', '1988', '1989', '1990', '1991', '1992', '1993', '1994', '1995', '1996', '1997', '1998', '1999', '2000', '2001', '2002', '2003', '2004', '2005', '2006', '2007', '2008', '2009', '2010', '2011', '2012', '2013', '2014', '2015', '2016', '2017', '2018', '2019', '2020', '2021', '2022', '2023', '2024', 'Unnamed: 69']\n"
     ]
    }
   ],
   "source": [
    "print(\"Columnas disponibles:\", df_tasa_interes.columns.tolist())"
   ]
  },
  {
   "cell_type": "code",
   "execution_count": 181,
   "metadata": {},
   "outputs": [
    {
     "name": "stdout",
     "output_type": "stream",
     "text": [
      "Tasa de interés:\n",
      "                         Country  Tasas_de_interes_%\n",
      "0                          Aruba            2.453045\n",
      "1    Africa Eastern and Southern                 NaN\n",
      "2                    Afghanistan                 NaN\n",
      "3     Africa Western and Central                 NaN\n",
      "4                         Angola           -5.844003\n",
      "..                           ...                 ...\n",
      "261                       Kosovo            5.079009\n",
      "262                  Yemen, Rep.                 NaN\n",
      "263                 South Africa            5.856184\n",
      "264                       Zambia            2.215865\n",
      "265                     Zimbabwe            3.454590\n",
      "\n",
      "[266 rows x 2 columns]\n"
     ]
    }
   ],
   "source": [
    "# Seleccionar columnas específicas para 2018\n",
    "df_tasa_interes_2018 = df_tasa_interes[['Country Name', '2018']].copy()\n",
    "\n",
    "# Renombrar columnas\n",
    "df_tasa_interes_2018.columns = ['Country', 'Tasas_de_interes_%']\n",
    "\n",
    "\n",
    "# Mostrar resultados\n",
    "print(\"Tasa de interés:\")\n",
    "print(df_tasa_interes_2018)\n",
    "\n",
    "\n",
    "## Guardar en CSV\n",
    "# Path\n",
    "tasa_interes_path = os.path.join(current_dir, '../data/raw/macrodata')\n",
    "# Crear un directorio si no existe\n",
    "os.makedirs(tasa_interes_path, exist_ok=True)\n",
    "# Archivo CSV\n",
    "tasa_interes_data = os.path.join(tasa_interes_path, \"tasa_interes.csv\")\n",
    "# Guardar dataframe en CSV\n",
    "df_tasa_interes_2018.to_csv(tasa_interes_data, index=False)\n"
   ]
  },
  {
   "cell_type": "markdown",
   "metadata": {},
   "source": [
    "## Consumo total hogares "
   ]
  },
  {
   "cell_type": "code",
   "execution_count": 182,
   "metadata": {},
   "outputs": [
    {
     "name": "stdout",
     "output_type": "stream",
     "text": [
      "                                         Series Name     Series Code  \\\n",
      "0  Households and NPISHs Final consumption expend...  NE.CON.PRVT.CD   \n",
      "1  Households and NPISHs Final consumption expend...  NE.CON.PRVT.CD   \n",
      "2  Households and NPISHs Final consumption expend...  NE.CON.PRVT.CD   \n",
      "3  Households and NPISHs Final consumption expend...  NE.CON.PRVT.CD   \n",
      "4  Households and NPISHs Final consumption expend...  NE.CON.PRVT.CD   \n",
      "\n",
      "     Country Name Country Code     1990 [YR1990]     2000 [YR2000]  \\\n",
      "0     Afghanistan          AFG                ..                ..   \n",
      "1         Albania          ALB        1271486850  2879464404.75529   \n",
      "2         Algeria          DZA  35266505182.0216  22776943098.6469   \n",
      "3  American Samoa          ASM                ..                ..   \n",
      "4         Andorra          AND                ..                ..   \n",
      "\n",
      "      2015 [YR2015]     2016 [YR2016]     2017 [YR2017]     2018 [YR2018]  \\\n",
      "0                ..                ..                ..                ..   \n",
      "1   9188593701.2885  9602953219.08291  10364747648.3988  11453757185.9689   \n",
      "2  74705541235.0721   74337682806.349  79857872116.7867  81186389409.1377   \n",
      "3         460000000         463000000         471000000         487000000   \n",
      "4                ..                ..                ..                ..   \n",
      "\n",
      "      2019 [YR2019]     2020 [YR2020]     2021 [YR2021]     2022 [YR2022]  \\\n",
      "0                ..  18419990527.0292  12617004786.8703  14150977069.9198   \n",
      "1  11773979072.4959  11363042882.8201  12927979166.9772  13570171567.9491   \n",
      "2  82801452806.2917  76776334471.2913  78913407233.8825  85650981663.2596   \n",
      "3         509000000         533000000         602000000         621000000   \n",
      "4                ..                ..                ..                ..   \n",
      "\n",
      "      2023 [YR2023] 2024 [YR2024]  \n",
      "0  16781810326.3078            ..  \n",
      "1  16531612533.4229            ..  \n",
      "2  101009060221.042            ..  \n",
      "3                ..            ..  \n",
      "4                ..            ..  \n"
     ]
    }
   ],
   "source": [
    "import pandas as pd\n",
    "\n",
    "consumo_total_path = os.path.join(current_dir, r\"..\\data\\zip\\Consumo nacional bruto.zip\")\n",
    "\n",
    "# Cargar el archivo CSV\n",
    "df_consumo_total = pd.read_csv(consumo_total_path)\n",
    "\n",
    "# Mostrar las primeras filas del DataFrame\n",
    "print(df_consumo_total.head())"
   ]
  },
  {
   "cell_type": "code",
   "execution_count": 183,
   "metadata": {},
   "outputs": [
    {
     "name": "stdout",
     "output_type": "stream",
     "text": [
      "                                           Series Name     Series Code  \\\n",
      "0    Households and NPISHs Final consumption expend...  NE.CON.PRVT.CD   \n",
      "1    Households and NPISHs Final consumption expend...  NE.CON.PRVT.CD   \n",
      "2    Households and NPISHs Final consumption expend...  NE.CON.PRVT.CD   \n",
      "3    Households and NPISHs Final consumption expend...  NE.CON.PRVT.CD   \n",
      "4    Households and NPISHs Final consumption expend...  NE.CON.PRVT.CD   \n",
      "..                                                 ...             ...   \n",
      "261  Households and NPISHs Final consumption expend...  NE.CON.PRVT.CD   \n",
      "262  Households and NPISHs Final consumption expend...  NE.CON.PRVT.CD   \n",
      "263  Households and NPISHs Final consumption expend...  NE.CON.PRVT.CD   \n",
      "264  Households and NPISHs Final consumption expend...  NE.CON.PRVT.CD   \n",
      "265  Households and NPISHs Final consumption expend...  NE.CON.PRVT.CD   \n",
      "\n",
      "                                   Country Name Country Code  Year  \\\n",
      "0                                   Afghanistan          AFG  2018   \n",
      "1                                       Albania          ALB  2018   \n",
      "2                                       Algeria          DZA  2018   \n",
      "3                                American Samoa          ASM  2018   \n",
      "4                                       Andorra          AND  2018   \n",
      "..                                          ...          ...   ...   \n",
      "261                          Sub-Saharan Africa          SSF  2018   \n",
      "262  Sub-Saharan Africa (excluding high income)          SSA  2018   \n",
      "263   Sub-Saharan Africa (IDA & IBRD countries)          TSS  2018   \n",
      "264                         Upper middle income          UMC  2018   \n",
      "265                                       World          WLD  2018   \n",
      "\n",
      "                Value  \n",
      "0                  ..  \n",
      "1    11453757185.9689  \n",
      "2    81186389409.1377  \n",
      "3           487000000  \n",
      "4                  ..  \n",
      "..                ...  \n",
      "261  1307276997301.39  \n",
      "262  1305998845590.73  \n",
      "263  1307276997301.39  \n",
      "264  11096981141650.3  \n",
      "265  48743986662133.8  \n",
      "\n",
      "[266 rows x 6 columns]\n"
     ]
    }
   ],
   "source": [
    "import pandas as pd\n",
    "import numpy as np\n",
    "\n",
    "# Identificar columnas de años\n",
    "year_columns = [col for col in df_consumo_total.columns if '[YR' in col]\n",
    "\n",
    "# Reorganizar datos \n",
    "df_tidy = pd.melt(\n",
    "    df_consumo_total,\n",
    "    id_vars=['Series Name', 'Series Code', 'Country Name', 'Country Code'],\n",
    "    value_vars=year_columns,\n",
    "    var_name='Year',\n",
    "    value_name='Value'\n",
    ")\n",
    "\n",
    "# Extraer el año numérico \n",
    "df_tidy['Year'] = df_tidy['Year'].str.extract(r'(\\d{4})').astype(int)\n",
    "\n",
    "# Filtrar solo 2018 y eliminar filas con NaN\n",
    "df_2018_clean = df_tidy[\n",
    "    (df_tidy['Year'] == 2018) & \n",
    "    (df_tidy['Value'].notna())  # Solo filas con valores numéricos\n",
    "].reset_index(drop=True)\n",
    "\n",
    "# Mostrar resultados\n",
    "print(df_2018_clean)"
   ]
  },
  {
   "cell_type": "code",
   "execution_count": 184,
   "metadata": {},
   "outputs": [
    {
     "name": "stdout",
     "output_type": "stream",
     "text": [
      "                                        Country Consumo Total Hogares 2018\n",
      "0                                   Afghanistan                         ..\n",
      "1                                       Albania           11453757185.9689\n",
      "2                                       Algeria           81186389409.1377\n",
      "3                                American Samoa                  487000000\n",
      "4                                       Andorra                         ..\n",
      "..                                          ...                        ...\n",
      "261                          Sub-Saharan Africa           1307276997301.39\n",
      "262  Sub-Saharan Africa (excluding high income)           1305998845590.73\n",
      "263   Sub-Saharan Africa (IDA & IBRD countries)           1307276997301.39\n",
      "264                         Upper middle income           11096981141650.3\n",
      "265                                       World           48743986662133.8\n",
      "\n",
      "[266 rows x 2 columns]\n"
     ]
    }
   ],
   "source": [
    "# Seleccionar solo las columnas requeridas: Country Name, 2018 y Series Name (CPI)\n",
    "df_2018_consumo_total = df_consumo_total[['Country Name', '2018 [YR2018]']]\n",
    "\n",
    "# Renombrar columnas para mayor claridad\n",
    "df_2018_consumo_total = df_2018_consumo_total.rename(columns={\n",
    "    'Country Name': 'Country',\n",
    "    '2018 [YR2018]': 'Consumo Total Hogares 2018',\n",
    "    \n",
    "})\n",
    "\n",
    "# Eliminar filas con valores faltantes (NaN) en CPI_2018\n",
    "df_2018_consumo_total_clean = df_2018_consumo_total.dropna(subset=['Consumo Total Hogares 2018'])\n",
    "\n",
    "# Mostrar el resultado\n",
    "print(df_2018_consumo_total_clean)\n",
    "\n",
    "## Guardar en CSV\n",
    "# Path\n",
    "consumo_total_path = os.path.join(current_dir, '../data/raw/macrodata')\n",
    "# Crear un directorio si no existe\n",
    "os.makedirs(consumo_total_path, exist_ok=True)\n",
    "# Archivo CSV\n",
    "consumo_total_data = os.path.join(consumo_total_path, \"Consumo nacional bruto.csv\")\n",
    "# Guardar dataframe en CSV\n",
    "df_2018_consumo_total_clean.to_csv(consumo_total_data, index=False)"
   ]
  },
  {
   "cell_type": "markdown",
   "metadata": {},
   "source": [
    "## Ingreso Nacional Bruto"
   ]
  },
  {
   "cell_type": "code",
   "execution_count": 185,
   "metadata": {},
   "outputs": [
    {
     "name": "stdout",
     "output_type": "stream",
     "text": [
      "         Series Name     Series Code    Country Name Country Code  \\\n",
      "0  GNI (current US$)  NY.GNP.MKTP.CD     Afghanistan          AFG   \n",
      "1  GNI (current US$)  NY.GNP.MKTP.CD         Albania          ALB   \n",
      "2  GNI (current US$)  NY.GNP.MKTP.CD         Algeria          DZA   \n",
      "3  GNI (current US$)  NY.GNP.MKTP.CD  American Samoa          ASM   \n",
      "4  GNI (current US$)  NY.GNP.MKTP.CD         Andorra          AND   \n",
      "\n",
      "      1990 [YR1990]     2000 [YR2000]     2015 [YR2015]     2016 [YR2016]  \\\n",
      "0                ..  3411145674.07204  19249499438.7455  18350475875.2999   \n",
      "1        2026653750  3585007221.82101  11521811393.6203   12053832974.203   \n",
      "2  59780577656.1963  52080377793.2312  183649437186.975  179594281655.137   \n",
      "3                ..                ..                ..                ..   \n",
      "4                ..                ..                ..                ..   \n",
      "\n",
      "      2017 [YR2017]     2018 [YR2018]     2019 [YR2019]     2020 [YR2020]  \\\n",
      "0  18961769787.4548  18294513957.5523  19080662010.7479  20105156769.1907   \n",
      "1  13051517643.6213  15361070727.3542  15383523591.8511  14991229141.5555   \n",
      "2  187682164214.748  190390454064.656  189548593096.822  162137110259.921   \n",
      "3                ..                ..                ..                ..   \n",
      "4                ..                ..  3462352923.13403  3268595543.70399   \n",
      "\n",
      "      2021 [YR2021]     2022 [YR2022]     2023 [YR2023] 2024 [YR2024]  \n",
      "0  14346089107.5906  14540297385.7235  17315384702.8949            ..  \n",
      "1  17780838454.9845  18686023829.0718  23246482646.2791            ..  \n",
      "2  182588498523.667  220378411278.286  244041138304.928            ..  \n",
      "3                ..                ..                ..            ..  \n",
      "4  3576595365.25519  3715466876.22408                ..            ..  \n"
     ]
    }
   ],
   "source": [
    "import pandas as pd\n",
    "\n",
    "# \n",
    "ingreso_nacional_path = os.path.join(current_dir, r'../data/zip/Ingreso nacional bruto.zip')\n",
    "\n",
    "# Cargar el archivo CSV\n",
    "df_ingreso_nacional = pd.read_csv(ingreso_nacional_path)\n",
    "\n",
    "# Mostrar las primeras filas del DataFrame\n",
    "print(df_ingreso_nacional.head())"
   ]
  },
  {
   "cell_type": "code",
   "execution_count": 186,
   "metadata": {},
   "outputs": [
    {
     "data": {
      "text/plain": [
       "Index(['Series Name', 'Series Code', 'Country Name', 'Country Code',\n",
       "       '1990 [YR1990]', '2000 [YR2000]', '2015 [YR2015]', '2016 [YR2016]',\n",
       "       '2017 [YR2017]', '2018 [YR2018]', '2019 [YR2019]', '2020 [YR2020]',\n",
       "       '2021 [YR2021]', '2022 [YR2022]', '2023 [YR2023]', '2024 [YR2024]'],\n",
       "      dtype='object')"
      ]
     },
     "execution_count": 186,
     "metadata": {},
     "output_type": "execute_result"
    }
   ],
   "source": [
    "df_ingreso_nacional.columns"
   ]
  },
  {
   "cell_type": "code",
   "execution_count": 187,
   "metadata": {},
   "outputs": [
    {
     "name": "stdout",
     "output_type": "stream",
     "text": [
      "           Series Name     Series Code  \\\n",
      "0    GNI (current US$)  NY.GNP.MKTP.CD   \n",
      "1    GNI (current US$)  NY.GNP.MKTP.CD   \n",
      "2    GNI (current US$)  NY.GNP.MKTP.CD   \n",
      "3    GNI (current US$)  NY.GNP.MKTP.CD   \n",
      "4    GNI (current US$)  NY.GNP.MKTP.CD   \n",
      "..                 ...             ...   \n",
      "261  GNI (current US$)  NY.GNP.MKTP.CD   \n",
      "262  GNI (current US$)  NY.GNP.MKTP.CD   \n",
      "263  GNI (current US$)  NY.GNP.MKTP.CD   \n",
      "264  GNI (current US$)  NY.GNP.MKTP.CD   \n",
      "265  GNI (current US$)  NY.GNP.MKTP.CD   \n",
      "\n",
      "                                   Country Name Country Code  Year  \\\n",
      "0                                   Afghanistan          AFG  2018   \n",
      "1                                       Albania          ALB  2018   \n",
      "2                                       Algeria          DZA  2018   \n",
      "3                                American Samoa          ASM  2018   \n",
      "4                                       Andorra          AND  2018   \n",
      "..                                          ...          ...   ...   \n",
      "261                          Sub-Saharan Africa          SSF  2018   \n",
      "262  Sub-Saharan Africa (excluding high income)          SSA  2018   \n",
      "263   Sub-Saharan Africa (IDA & IBRD countries)          TSS  2018   \n",
      "264                         Upper middle income          UMC  2018   \n",
      "265                                       World          WLD  2018   \n",
      "\n",
      "                Value  \n",
      "0    18294513957.5523  \n",
      "1    15361070727.3542  \n",
      "2    190390454064.656  \n",
      "3                  ..  \n",
      "4                  ..  \n",
      "..                ...  \n",
      "261   1730435953736.8  \n",
      "262  1728736809088.67  \n",
      "263   1730435953736.8  \n",
      "264    23044511357732  \n",
      "265  86654073045328.3  \n",
      "\n",
      "[266 rows x 6 columns]\n"
     ]
    }
   ],
   "source": [
    "import pandas as pd\n",
    "import numpy as np\n",
    "\n",
    "# Identificar columnas de años\n",
    "year_columns = [col for col in df_ingreso_nacional.columns if '[YR' in col]\n",
    "\n",
    "# Reorganizar datos \n",
    "df_tidy = pd.melt(\n",
    "    df_ingreso_nacional,\n",
    "    id_vars=['Series Name', 'Series Code', 'Country Name', 'Country Code'],\n",
    "    value_vars=year_columns,\n",
    "    var_name='Year',\n",
    "    value_name='Value'\n",
    ")\n",
    "\n",
    "# Extraer el año numérico \n",
    "df_tidy['Year'] = df_tidy['Year'].str.extract(r'(\\d{4})').astype(int)\n",
    "\n",
    "# Filtrar solo 2018 y eliminar filas con NaN \n",
    "df_ingreso_nacional_2018_clean = df_tidy[\n",
    "    (df_tidy['Year'] == 2018) & \n",
    "    (df_tidy['Value'].notna())  # Solo filas con valores numéricos\n",
    "].reset_index(drop=True)\n",
    "\n",
    "# Mostrar resultados\n",
    "print(df_ingreso_nacional_2018_clean)\n"
   ]
  },
  {
   "cell_type": "code",
   "execution_count": 188,
   "metadata": {},
   "outputs": [
    {
     "name": "stdout",
     "output_type": "stream",
     "text": [
      "            Country Ingreso nacional bruto 2018\n",
      "0       Afghanistan            18294513957.5523\n",
      "1           Albania            15361070727.3542\n",
      "2           Algeria            190390454064.656\n",
      "3    American Samoa                          ..\n",
      "4           Andorra                          ..\n",
      "..              ...                         ...\n",
      "266             NaN                         NaN\n",
      "267             NaN                         NaN\n",
      "268             NaN                         NaN\n",
      "269             NaN                         NaN\n",
      "270             NaN                         NaN\n",
      "\n",
      "[271 rows x 2 columns]\n"
     ]
    }
   ],
   "source": [
    "# Seleccionar solo las columnas requeridas: Country Name, 2018 y Series Name (CPI)\n",
    "df_2018_ingreso_nacional = df_ingreso_nacional[['Country Name', '2018 [YR2018]']]\n",
    "\n",
    "# Renombrar columnas \n",
    "df_2018_ingreso_nacional = df_2018_ingreso_nacional.rename(columns={\n",
    "    'Country Name': 'Country',\n",
    "    '2018 [YR2018]': 'Ingreso nacional bruto 2018',\n",
    "    \n",
    "})\n",
    "\n",
    "# Mostrar el resultado\n",
    "print(df_2018_ingreso_nacional)\n",
    "\n",
    "\n",
    "## Guardar en CSV\n",
    "# Path\n",
    "ingreso_nacional_path = os.path.join(current_dir, '../data/raw/macrodata')\n",
    "# Crear un directorio si no existe\n",
    "os.makedirs(ingreso_nacional_path, exist_ok=True)\n",
    "# Archivo CSV\n",
    "ingreso_nacional_data = os.path.join(ingreso_nacional_path, \"ingreso_nacional_bruto.csv\")\n",
    "# Guardar dataframe en CSV\n",
    "df_2018_ingreso_nacional.to_csv(ingreso_nacional_data, index=False)"
   ]
  }
 ],
 "metadata": {
  "kernelspec": {
   "display_name": "Python 3",
   "language": "python",
   "name": "python3"
  },
  "language_info": {
   "codemirror_mode": {
    "name": "ipython",
    "version": 3
   },
   "file_extension": ".py",
   "mimetype": "text/x-python",
   "name": "python",
   "nbconvert_exporter": "python",
   "pygments_lexer": "ipython3",
   "version": "3.11.6"
  }
 },
 "nbformat": 4,
 "nbformat_minor": 2
}
