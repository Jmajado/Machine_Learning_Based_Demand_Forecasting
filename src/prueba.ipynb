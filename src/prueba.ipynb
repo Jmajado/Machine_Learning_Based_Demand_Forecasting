{
 "cells": [
  {
   "cell_type": "code",
   "execution_count": 1,
   "metadata": {},
   "outputs": [],
   "source": [
    "from selenium import webdriver\n",
    "from selenium.webdriver.common.by import By\n",
    "from selenium.webdriver.chrome.service import Service\n",
    "from selenium.webdriver.chrome.options import Options\n",
    "from webdriver_manager.chrome import ChromeDriverManager\n",
    "from selenium.common.exceptions import NoSuchElementException\n",
    "import time\n",
    "from selenium.webdriver.support import expected_conditions as EC\n",
    "import pandas as pd\n",
    "\n",
    "options = webdriver.ChromeOptions()\n",
    "options.add_argument(\"--headless\")\n",
    "driver = webdriver.Chrome(\n",
    "    service = Service(ChromeDriverManager().install()),\n",
    "    options = options\n",
    ")\n",
    "options.add_argument(\"--headless\")\n",
    "URL = 'https://data-explorer.oecd.org/vis?lc=en&pg=0&snb=1&vw=tb&df[ds]=dsDisseminateFinalDMZ&df[id]=DSD_STES%40DF_CLI&df[ag]=OECD.SDD.STES&df[vs]=&pd=2021-01%2C2025-03&dq=AUS%2BAUT%2BBEL%2BCHL%2BCOL%2BCRI%2BCZE%2BDNK%2BEST%2BFIN%2BFRA%2BDEU%2BGRC%2BHUN%2BIRL%2BISR%2BLUX%2BSVN%2BSWE%2BA5M%2BLTU%2BLVA%2BKOR%2BJPN%2BITA%2BSVK%2BPRT%2BPOL%2BNOR%2BNLD%2BNZL%2BESP%2BMEX%2BTUR%2BCHE%2BGBR%2BBRA%2BUSA%2BBGR%2BCHN%2BHRV%2BRUS%2BROU%2BIND%2BIDN%2BZAF.M.CCICP......H&ly[rw]=TIME_PERIOD&ly[cl]=REF_AREA&to[TIME_PERIOD]=false' "
   ]
  },
  {
   "cell_type": "code",
   "execution_count": 8,
   "metadata": {},
   "outputs": [
    {
     "ename": "NoSuchElementException",
     "evalue": "Message: no such element: Unable to locate element: {\"method\":\"css selector\",\"selector\":\"table.MuiTable-root\"}\n  (Session info: chrome=135.0.7049.114); For documentation on this error, please visit: https://www.selenium.dev/documentation/webdriver/troubleshooting/errors#no-such-element-exception\nStacktrace:\n0   chromedriver                        0x00000001045e2a54 cxxbridge1$str$ptr + 2803960\n1   chromedriver                        0x00000001045dacf0 cxxbridge1$str$ptr + 2771860\n2   chromedriver                        0x0000000104126864 cxxbridge1$string$len + 93028\n3   chromedriver                        0x000000010416d410 cxxbridge1$string$len + 382736\n4   chromedriver                        0x00000001041ae480 cxxbridge1$string$len + 649088\n5   chromedriver                        0x00000001041617ec cxxbridge1$string$len + 334572\n6   chromedriver                        0x00000001045a7ccc cxxbridge1$str$ptr + 2562928\n7   chromedriver                        0x00000001045aaf98 cxxbridge1$str$ptr + 2575932\n8   chromedriver                        0x00000001045882c4 cxxbridge1$str$ptr + 2433384\n9   chromedriver                        0x00000001045ab810 cxxbridge1$str$ptr + 2578100\n10  chromedriver                        0x00000001045792f0 cxxbridge1$str$ptr + 2371988\n11  chromedriver                        0x00000001045cb57c cxxbridge1$str$ptr + 2708512\n12  chromedriver                        0x00000001045cb708 cxxbridge1$str$ptr + 2708908\n13  chromedriver                        0x00000001045da93c cxxbridge1$str$ptr + 2770912\n14  libsystem_pthread.dylib             0x000000018700af94 _pthread_start + 136\n15  libsystem_pthread.dylib             0x0000000187005d34 thread_start + 8\n",
     "output_type": "error",
     "traceback": [
      "\u001b[0;31m---------------------------------------------------------------------------\u001b[0m",
      "\u001b[0;31mNoSuchElementException\u001b[0m                    Traceback (most recent call last)",
      "Cell \u001b[0;32mIn[8], line 2\u001b[0m\n\u001b[1;32m      1\u001b[0m time\u001b[38;5;241m.\u001b[39msleep(\u001b[38;5;241m5\u001b[39m)\n\u001b[0;32m----> 2\u001b[0m tabla \u001b[38;5;241m=\u001b[39m \u001b[43mdriver\u001b[49m\u001b[38;5;241;43m.\u001b[39;49m\u001b[43mfind_element\u001b[49m\u001b[43m(\u001b[49m\u001b[43mBy\u001b[49m\u001b[38;5;241;43m.\u001b[39;49m\u001b[43mCSS_SELECTOR\u001b[49m\u001b[43m,\u001b[49m\u001b[43m \u001b[49m\u001b[38;5;124;43m\"\u001b[39;49m\u001b[38;5;124;43mtable.MuiTable-root\u001b[39;49m\u001b[38;5;124;43m\"\u001b[39;49m\u001b[43m)\u001b[49m\n\u001b[1;32m      3\u001b[0m filas \u001b[38;5;241m=\u001b[39m tabla\u001b[38;5;241m.\u001b[39mfind_elements(By\u001b[38;5;241m.\u001b[39mTAG_NAME,\u001b[38;5;124m'\u001b[39m\u001b[38;5;124mtr\u001b[39m\u001b[38;5;124m'\u001b[39m)\n\u001b[1;32m      4\u001b[0m indice_confianza_consumidor \u001b[38;5;241m=\u001b[39m []\n",
      "File \u001b[0;32m~/.pyenv/versions/3.10.16/lib/python3.10/site-packages/selenium/webdriver/remote/webdriver.py:898\u001b[0m, in \u001b[0;36mWebDriver.find_element\u001b[0;34m(self, by, value)\u001b[0m\n\u001b[1;32m    895\u001b[0m         \u001b[38;5;28;01mraise\u001b[39;00m NoSuchElementException(\u001b[38;5;124mf\u001b[39m\u001b[38;5;124m\"\u001b[39m\u001b[38;5;124mCannot locate relative element with: \u001b[39m\u001b[38;5;132;01m{\u001b[39;00mby\u001b[38;5;241m.\u001b[39mroot\u001b[38;5;132;01m}\u001b[39;00m\u001b[38;5;124m\"\u001b[39m)\n\u001b[1;32m    896\u001b[0m     \u001b[38;5;28;01mreturn\u001b[39;00m elements[\u001b[38;5;241m0\u001b[39m]\n\u001b[0;32m--> 898\u001b[0m \u001b[38;5;28;01mreturn\u001b[39;00m \u001b[38;5;28;43mself\u001b[39;49m\u001b[38;5;241;43m.\u001b[39;49m\u001b[43mexecute\u001b[49m\u001b[43m(\u001b[49m\u001b[43mCommand\u001b[49m\u001b[38;5;241;43m.\u001b[39;49m\u001b[43mFIND_ELEMENT\u001b[49m\u001b[43m,\u001b[49m\u001b[43m \u001b[49m\u001b[43m{\u001b[49m\u001b[38;5;124;43m\"\u001b[39;49m\u001b[38;5;124;43musing\u001b[39;49m\u001b[38;5;124;43m\"\u001b[39;49m\u001b[43m:\u001b[49m\u001b[43m \u001b[49m\u001b[43mby\u001b[49m\u001b[43m,\u001b[49m\u001b[43m \u001b[49m\u001b[38;5;124;43m\"\u001b[39;49m\u001b[38;5;124;43mvalue\u001b[39;49m\u001b[38;5;124;43m\"\u001b[39;49m\u001b[43m:\u001b[49m\u001b[43m \u001b[49m\u001b[43mvalue\u001b[49m\u001b[43m}\u001b[49m\u001b[43m)\u001b[49m[\u001b[38;5;124m\"\u001b[39m\u001b[38;5;124mvalue\u001b[39m\u001b[38;5;124m\"\u001b[39m]\n",
      "File \u001b[0;32m~/.pyenv/versions/3.10.16/lib/python3.10/site-packages/selenium/webdriver/remote/webdriver.py:429\u001b[0m, in \u001b[0;36mWebDriver.execute\u001b[0;34m(self, driver_command, params)\u001b[0m\n\u001b[1;32m    427\u001b[0m response \u001b[38;5;241m=\u001b[39m \u001b[38;5;28mself\u001b[39m\u001b[38;5;241m.\u001b[39mcommand_executor\u001b[38;5;241m.\u001b[39mexecute(driver_command, params)\n\u001b[1;32m    428\u001b[0m \u001b[38;5;28;01mif\u001b[39;00m response:\n\u001b[0;32m--> 429\u001b[0m     \u001b[38;5;28;43mself\u001b[39;49m\u001b[38;5;241;43m.\u001b[39;49m\u001b[43merror_handler\u001b[49m\u001b[38;5;241;43m.\u001b[39;49m\u001b[43mcheck_response\u001b[49m\u001b[43m(\u001b[49m\u001b[43mresponse\u001b[49m\u001b[43m)\u001b[49m\n\u001b[1;32m    430\u001b[0m     response[\u001b[38;5;124m\"\u001b[39m\u001b[38;5;124mvalue\u001b[39m\u001b[38;5;124m\"\u001b[39m] \u001b[38;5;241m=\u001b[39m \u001b[38;5;28mself\u001b[39m\u001b[38;5;241m.\u001b[39m_unwrap_value(response\u001b[38;5;241m.\u001b[39mget(\u001b[38;5;124m\"\u001b[39m\u001b[38;5;124mvalue\u001b[39m\u001b[38;5;124m\"\u001b[39m, \u001b[38;5;28;01mNone\u001b[39;00m))\n\u001b[1;32m    431\u001b[0m     \u001b[38;5;28;01mreturn\u001b[39;00m response\n",
      "File \u001b[0;32m~/.pyenv/versions/3.10.16/lib/python3.10/site-packages/selenium/webdriver/remote/errorhandler.py:232\u001b[0m, in \u001b[0;36mErrorHandler.check_response\u001b[0;34m(self, response)\u001b[0m\n\u001b[1;32m    230\u001b[0m         alert_text \u001b[38;5;241m=\u001b[39m value[\u001b[38;5;124m\"\u001b[39m\u001b[38;5;124malert\u001b[39m\u001b[38;5;124m\"\u001b[39m]\u001b[38;5;241m.\u001b[39mget(\u001b[38;5;124m\"\u001b[39m\u001b[38;5;124mtext\u001b[39m\u001b[38;5;124m\"\u001b[39m)\n\u001b[1;32m    231\u001b[0m     \u001b[38;5;28;01mraise\u001b[39;00m exception_class(message, screen, stacktrace, alert_text)  \u001b[38;5;66;03m# type: ignore[call-arg]  # mypy is not smart enough here\u001b[39;00m\n\u001b[0;32m--> 232\u001b[0m \u001b[38;5;28;01mraise\u001b[39;00m exception_class(message, screen, stacktrace)\n",
      "\u001b[0;31mNoSuchElementException\u001b[0m: Message: no such element: Unable to locate element: {\"method\":\"css selector\",\"selector\":\"table.MuiTable-root\"}\n  (Session info: chrome=135.0.7049.114); For documentation on this error, please visit: https://www.selenium.dev/documentation/webdriver/troubleshooting/errors#no-such-element-exception\nStacktrace:\n0   chromedriver                        0x00000001045e2a54 cxxbridge1$str$ptr + 2803960\n1   chromedriver                        0x00000001045dacf0 cxxbridge1$str$ptr + 2771860\n2   chromedriver                        0x0000000104126864 cxxbridge1$string$len + 93028\n3   chromedriver                        0x000000010416d410 cxxbridge1$string$len + 382736\n4   chromedriver                        0x00000001041ae480 cxxbridge1$string$len + 649088\n5   chromedriver                        0x00000001041617ec cxxbridge1$string$len + 334572\n6   chromedriver                        0x00000001045a7ccc cxxbridge1$str$ptr + 2562928\n7   chromedriver                        0x00000001045aaf98 cxxbridge1$str$ptr + 2575932\n8   chromedriver                        0x00000001045882c4 cxxbridge1$str$ptr + 2433384\n9   chromedriver                        0x00000001045ab810 cxxbridge1$str$ptr + 2578100\n10  chromedriver                        0x00000001045792f0 cxxbridge1$str$ptr + 2371988\n11  chromedriver                        0x00000001045cb57c cxxbridge1$str$ptr + 2708512\n12  chromedriver                        0x00000001045cb708 cxxbridge1$str$ptr + 2708908\n13  chromedriver                        0x00000001045da93c cxxbridge1$str$ptr + 2770912\n14  libsystem_pthread.dylib             0x000000018700af94 _pthread_start + 136\n15  libsystem_pthread.dylib             0x0000000187005d34 thread_start + 8\n"
     ]
    }
   ],
   "source": [
    "tabla = driver.find_element(By.CSS_SELECTOR, \"table.MuiTable-root\")\n",
    "filas = tabla.find_elements(By.TAG_NAME,'tr')\n",
    "indice_confianza_consumidor = []\n",
    "for i in filas:\n",
    "    celdas = i.find_elements(By.TAG_NAME, \"td\")\n",
    "    if len(celdas) > 57:  # número de columnas mínimo para evitar filas de encabezado\n",
    "        datos = [celda.text for celda in celdas]\n",
    "        indice_confianza_consumidor.append(datos)\n",
    "\n",
    "ICC = pd.DataFrame(indice_confianza_consumidor)\n",
    "\n",
    "# Mostrar algunas filas\n",
    "print(ICC.head())\n",
    "\n",
    "# Cerrar el navegador\n",
    "driver.quit()"
   ]
  }
 ],
 "metadata": {
  "kernelspec": {
   "display_name": "Python 3",
   "language": "python",
   "name": "python3"
  },
  "language_info": {
   "codemirror_mode": {
    "name": "ipython",
    "version": 3
   },
   "file_extension": ".py",
   "mimetype": "text/x-python",
   "name": "python",
   "nbconvert_exporter": "python",
   "pygments_lexer": "ipython3",
   "version": "3.10.16"
  }
 },
 "nbformat": 4,
 "nbformat_minor": 2
}
