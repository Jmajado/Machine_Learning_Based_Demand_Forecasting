{
 "cells": [
  {
   "cell_type": "markdown",
   "id": "efbdb6b2",
   "metadata": {},
   "source": [
    "Densidad Poblacion por Estado en 2018\n"
   ]
  },
  {
   "cell_type": "code",
   "execution_count": 218,
   "id": "98c575af",
   "metadata": {},
   "outputs": [
    {
     "name": "stdout",
     "output_type": "stream",
     "text": [
      "  table with row headers in column A and column headers in rows 3 through 4. (leading dots indicate sub-parts)  \\\n",
      "0  Table 1. Annual Estimates of the Resident Popu...                                                             \n",
      "1                                    Geographic Area                                                             \n",
      "2                                                NaN                                                             \n",
      "3                                      United States                                                             \n",
      "4                                          Northeast                                                             \n",
      "\n",
      "            Unnamed: 1      Unnamed: 2                          Unnamed: 3  \\\n",
      "0                  NaN             NaN                                 NaN   \n",
      "1  2010-04-01 00:00:00             NaN  Population Estimate (as of July 1)   \n",
      "2               Census  Estimates Base                                2010   \n",
      "3            308745538       308758105                           309321666   \n",
      "4             55317240        55318443                            55380134   \n",
      "\n",
      "    Unnamed: 4   Unnamed: 5   Unnamed: 6   Unnamed: 7   Unnamed: 8  \\\n",
      "0          NaN          NaN          NaN          NaN          NaN   \n",
      "1          NaN          NaN          NaN          NaN          NaN   \n",
      "2       2011.0       2012.0       2013.0       2014.0       2015.0   \n",
      "3  311556874.0  313830990.0  315993715.0  318301008.0  320635163.0   \n",
      "4   55604223.0   55775216.0   55901806.0   56006011.0   56034684.0   \n",
      "\n",
      "    Unnamed: 9  Unnamed: 10  Unnamed: 11  Unnamed: 12  \n",
      "0          NaN          NaN          NaN          NaN  \n",
      "1          NaN          NaN          NaN          NaN  \n",
      "2       2016.0       2017.0       2018.0       2019.0  \n",
      "3  322941311.0  324985539.0  326687501.0  328239523.0  \n",
      "4   56042330.0   56059240.0   56046620.0   55982803.0  \n"
     ]
    }
   ],
   "source": [
    "import pandas as pd\n",
    "import os\n",
    "\n",
    "# Directorio actual\n",
    "current_dir = os.getcwd()\n",
    "\n",
    "# Abrir\n",
    "df = pd.read_excel(r'c:\\Users\\aguil\\Downloads\\nst-est2019-01(densidad poblacion).xlsx', engine='openpyxl'  )\n",
    "\n",
    "# Mostrar las primeras filas\n",
    "print(df.head())"
   ]
  },
  {
   "cell_type": "code",
   "execution_count": 219,
   "id": "038664aa",
   "metadata": {},
   "outputs": [
    {
     "name": "stdout",
     "output_type": "stream",
     "text": [
      "<bound method IndexOpsMixin.tolist of Index(['table with row headers in column A and column headers in rows 3 through 4. (leading dots indicate sub-parts)',\n",
      "       'Unnamed: 1', 'Unnamed: 2', 'Unnamed: 3', 'Unnamed: 4', 'Unnamed: 5',\n",
      "       'Unnamed: 6', 'Unnamed: 7', 'Unnamed: 8', 'Unnamed: 9', 'Unnamed: 10',\n",
      "       'Unnamed: 11', 'Unnamed: 12'],\n",
      "      dtype='object')>\n"
     ]
    }
   ],
   "source": [
    "print(df.columns.tolist)"
   ]
  },
  {
   "cell_type": "code",
   "execution_count": 220,
   "id": "6229a2a5",
   "metadata": {},
   "outputs": [],
   "source": [
    "# Seleccionar columnas de estados y población 2018 (ajusta los nombres según tu archivo)\n",
    "columnas_deseadas = ['table with row headers in column A and column headers in rows 3 through 4. (leading dots indicate sub-parts)', 'Unnamed: 11']  # Ejemplo: 'State' para estados y '2018' para datos de ese año\n",
    "df_filtrado = df[columnas_deseadas]\n",
    "\n",
    "# Eliminar filas que no son estados\n",
    "df_filtrado = df_filtrado[~df_filtrado['table with row headers in column A and column headers in rows 3 through 4. (leading dots indicate sub-parts)'].str.contains('United States|Puerto Rico', na=False)]\n",
    "df_final = df_filtrado.iloc[8:].reset_index(drop=True)\n",
    "\n",
    "# Cambiar nombres de columnas\n",
    "df_densidad_poblacion = df_final.rename(columns={\n",
    "    'table with row headers in column A and column headers in rows 3 through 4. (leading dots indicate sub-parts)': 'Estado',     \n",
    "    'Unnamed: 11': 'Poblacion_2018' \n",
    "})\n",
    "\n",
    "\n",
    "\n",
    "# Mostrar resultado\n",
    "df_densidad_poblacion.head()\n",
    "\n",
    "## Guardar en CSV\n",
    "# Path\n",
    "df_densidad_poblacion_path = os.path.join(current_dir, '../data/raw/macrodata')\n",
    "# Crear un directorio si no existe\n",
    "os.makedirs(df_densidad_poblacion_path, exist_ok=True)\n",
    "# Archivo CSV\n",
    "df_densidad_poblacion_data = os.path.join(df_densidad_poblacion_path, \"ingreso_nacional_bruto.csv\")\n",
    "# Guardar dataframe en CSV\n",
    "df_densidad_poblacion.to_csv(df_densidad_poblacion_data, index=False)"
   ]
  },
  {
   "cell_type": "markdown",
   "id": "9d610ec1",
   "metadata": {},
   "source": [
    "Ingresos personales\n"
   ]
  },
  {
   "cell_type": "code",
   "execution_count": 221,
   "id": "ead68fe2",
   "metadata": {},
   "outputs": [
    {
     "name": "stderr",
     "output_type": "stream",
     "text": [
      "C:\\Users\\aguil\\AppData\\Local\\Packages\\PythonSoftwareFoundation.Python.3.11_qbz5n2kfra8p0\\LocalCache\\local-packages\\Python311\\site-packages\\openpyxl\\styles\\stylesheet.py:237: UserWarning: Workbook contains no default style, apply openpyxl's default\n",
      "  warn(\"Workbook contains no default style, apply openpyxl's default\")\n"
     ]
    },
    {
     "name": "stdout",
     "output_type": "stream",
     "text": [
      "  CAINC1 County and MSA personal income summary: personal income, population, per capita personal income  \\\n",
      "0             Personal income (Thousands of dollars)                                                       \n",
      "1                        Bureau of Economic Analysis                                                       \n",
      "2                                             County                                                       \n",
      "3                                                NaN                                                       \n",
      "4                                            GeoFips                                                       \n",
      "\n",
      "  Unnamed: 1 Unnamed: 2  \n",
      "0        NaN        NaN  \n",
      "1        NaN        NaN  \n",
      "2        NaN        NaN  \n",
      "3        NaN        NaN  \n",
      "4    GeoName       2018  \n"
     ]
    }
   ],
   "source": [
    "import pandas as pd\n",
    "# Abrir\n",
    "df = pd.read_excel(r\"C:\\Users\\aguil\\Downloads\\Table.xlsx\", engine='openpyxl' )\n",
    "\n",
    "# Mostrar las primeras filas\n",
    "print(df.head())"
   ]
  },
  {
   "cell_type": "code",
   "execution_count": 222,
   "id": "bb806a08",
   "metadata": {},
   "outputs": [
    {
     "name": "stdout",
     "output_type": "stream",
     "text": [
      "<bound method IndexOpsMixin.tolist of Index(['CAINC1 County and MSA personal income summary: personal income, population, per capita personal income',\n",
      "       'Unnamed: 1', 'Unnamed: 2'],\n",
      "      dtype='object')>\n"
     ]
    }
   ],
   "source": [
    "print(df.columns.tolist)"
   ]
  },
  {
   "cell_type": "code",
   "execution_count": 223,
   "id": "3d0ec602",
   "metadata": {},
   "outputs": [],
   "source": [
    "# Seleccionar columnas de estados e ingresos personales\n",
    "columnas_deseadas = ['Unnamed: 1', 'Unnamed: 2']  \n",
    "df_filtrado = df[columnas_deseadas]\n",
    "\n",
    "# Cambiar nombres de columnas\n",
    "df_renombrado = df_filtrado.rename(columns={\n",
    "    'Unnamed: 1': 'Estado',     \n",
    "    'Unnamed: 2': 'Ingresos_personales_2018' \n",
    "})\n",
    "df_sin_terminar = df_renombrado.iloc[5:].reset_index(drop=True)\n",
    "df_ingresos = df_sin_terminar.iloc[:-18] \n",
    "\n",
    "# Mostrar resultado\n",
    "df_ingresos\n",
    "\n",
    "## Guardar en CSV\n",
    "# Path\n",
    "df_ingresos_path = os.path.join(current_dir, '../data/raw/macrodata')\n",
    "# Crear un directorio si no existe\n",
    "os.makedirs(df_ingresos_path, exist_ok=True)\n",
    "# Archivo CSV\n",
    "df_ingresos_data = os.path.join(df_ingresos_path, \"ingreso_nacional_bruto.csv\")\n",
    "# Guardar dataframe en CSV\n",
    "df_ingresos.to_csv(df_ingresos_data, index=False)"
   ]
  },
  {
   "cell_type": "markdown",
   "id": "d07d343f",
   "metadata": {},
   "source": [
    "Tasa de crecimiento de poblacion"
   ]
  },
  {
   "cell_type": "code",
   "execution_count": 224,
   "id": "2ef03fd7",
   "metadata": {},
   "outputs": [
    {
     "name": "stdout",
     "output_type": "stream",
     "text": [
      "  table with row headers in column A and column headers in rows 3 through 4. (leading dots indicate sub-parts)  \\\n",
      "0  Table 1. Annual Estimates of the Resident Popu...                                                             \n",
      "1                                    Geographic Area                                                             \n",
      "2                                                NaN                                                             \n",
      "3                                      United States                                                             \n",
      "4                                          Northeast                                                             \n",
      "\n",
      "            Unnamed: 1      Unnamed: 2                          Unnamed: 3  \\\n",
      "0                  NaN             NaN                                 NaN   \n",
      "1  2010-04-01 00:00:00             NaN  Population Estimate (as of July 1)   \n",
      "2               Census  Estimates Base                                2010   \n",
      "3            308745538       308758105                           309321666   \n",
      "4             55317240        55318443                            55380134   \n",
      "\n",
      "    Unnamed: 4   Unnamed: 5   Unnamed: 6   Unnamed: 7   Unnamed: 8  \\\n",
      "0          NaN          NaN          NaN          NaN          NaN   \n",
      "1          NaN          NaN          NaN          NaN          NaN   \n",
      "2       2011.0       2012.0       2013.0       2014.0       2015.0   \n",
      "3  311556874.0  313830990.0  315993715.0  318301008.0  320635163.0   \n",
      "4   55604223.0   55775216.0   55901806.0   56006011.0   56034684.0   \n",
      "\n",
      "    Unnamed: 9  Unnamed: 10  Unnamed: 11  Unnamed: 12  \n",
      "0          NaN          NaN          NaN          NaN  \n",
      "1          NaN          NaN          NaN          NaN  \n",
      "2       2016.0       2017.0       2018.0       2019.0  \n",
      "3  322941311.0  324985539.0  326687501.0  328239523.0  \n",
      "4   56042330.0   56059240.0   56046620.0   55982803.0  \n"
     ]
    }
   ],
   "source": [
    "import pandas as pd\n",
    "# Abrir\n",
    "df = pd.read_excel(r'c:\\Users\\aguil\\Downloads\\nst-est2019-01(densidad poblacion).xlsx', engine='openpyxl'  )\n",
    "\n",
    "# Mostrar las primeras filas\n",
    "print(df.head())"
   ]
  },
  {
   "cell_type": "code",
   "execution_count": 225,
   "id": "0089695c",
   "metadata": {},
   "outputs": [],
   "source": [
    "# Seleccionar columnas de estados y población 2018 (ajusta los nombres según tu archivo)\n",
    "columnas_deseadas = ['table with row headers in column A and column headers in rows 3 through 4. (leading dots indicate sub-parts)', 'Unnamed: 10', 'Unnamed: 11']  # Ejemplo: 'State' para estados y '2018' para datos de ese año\n",
    "df_filtrado = df[columnas_deseadas]\n",
    "\n",
    "# Eliminar filas que no son estados\n",
    "df_filtrado = df_filtrado[~df_filtrado['table with row headers in column A and column headers in rows 3 through 4. (leading dots indicate sub-parts)'].str.contains('United States|Puerto Rico', na=False)]\n",
    "df_final = df_filtrado.iloc[8:].reset_index(drop=True)\n",
    "\n",
    "# Cambiar nombres de columnas\n",
    "df_crecimiento = df_final.rename(columns={\n",
    "    'table with row headers in column A and column headers in rows 3 through 4. (leading dots indicate sub-parts)': 'Estado',     \n",
    "    'Unnamed: 10': 'Poblacion_2017', \n",
    "    'Unnamed: 11': 'Poblacion_2018'\n",
    "    \n",
    "})\n",
    "# Calcular porcentaje de crecimiento\n",
    "df_crecimiento['Crecimiento (%)'] = ((df_crecimiento['Poblacion_2018'] - df_crecimiento['Poblacion_2017']) / df_crecimiento['Poblacion_2017'] * 100).round(2)\n",
    "\n",
    "# Mostrar top 5\n",
    "df_crecimiento.head()\n",
    "\n",
    "## Guardar en CSV\n",
    "# Path\n",
    "df_crecimiento_path = os.path.join(current_dir, '../data/raw/macrodata')\n",
    "# Crear un directorio si no existe\n",
    "os.makedirs(df_crecimiento_path, exist_ok=True)\n",
    "# Archivo CSV\n",
    "df_crecimiento_data = os.path.join(df_crecimiento_path, \"ingreso_nacional_bruto.csv\")\n",
    "# Guardar dataframe en CSV\n",
    "df_crecimiento.to_csv(df_crecimiento_data, index=False)"
   ]
  }
 ],
 "metadata": {
  "kernelspec": {
   "display_name": "Python 3",
   "language": "python",
   "name": "python3"
  },
  "language_info": {
   "codemirror_mode": {
    "name": "ipython",
    "version": 3
   },
   "file_extension": ".py",
   "mimetype": "text/x-python",
   "name": "python",
   "nbconvert_exporter": "python",
   "pygments_lexer": "ipython3",
   "version": "3.11.9"
  }
 },
 "nbformat": 4,
 "nbformat_minor": 5
}
